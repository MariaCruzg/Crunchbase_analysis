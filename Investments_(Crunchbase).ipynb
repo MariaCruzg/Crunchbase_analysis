{
  "nbformat": 4,
  "nbformat_minor": 0,
  "metadata": {
    "colab": {
      "name": "Investments (Crunchbase).ipynb",
      "provenance": [],
      "collapsed_sections": [],
      "machine_shape": "hm"
    },
    "kernelspec": {
      "name": "python3",
      "display_name": "Python 3"
    }
  },
  "cells": [
    {
      "cell_type": "markdown",
      "metadata": {
        "id": "gn9I-vwZRgKl",
        "colab_type": "text"
      },
      "source": [
        "This data was extracted from CrunchBase on December 02, 2014.\n",
        "The investments series at a company level are given. The company status are given - the interesting challenge would be discover if the investments and other criteria help company to be a operating / closed / acquired stage. "
      ]
    },
    {
      "cell_type": "markdown",
      "metadata": {
        "id": "6ABjYDfZRqbW",
        "colab_type": "text"
      },
      "source": [
        "# (1) Data cleaning & exploratory data analysis (EDA) 📊"
      ]
    },
    {
      "cell_type": "markdown",
      "metadata": {
        "id": "_g7hhO2M5-Wy",
        "colab_type": "text"
      },
      "source": [
        "Libraries   📚"
      ]
    },
    {
      "cell_type": "code",
      "metadata": {
        "id": "XjVxsD8LS4rL",
        "colab_type": "code",
        "outputId": "1cd31cc0-b32a-42dd-f98a-82e26e16903a",
        "colab": {
          "base_uri": "https://localhost:8080/",
          "height": 70
        }
      },
      "source": [
        "import numpy as np\n",
        "import pandas as pd\n",
        "from sklearn.pipeline import Pipeline\n",
        "from sklearn.preprocessing import StandardScaler\n",
        "from google.colab import drive\n",
        "import glob\n",
        "from wordcloud import WordCloud\n",
        "import matplotlib.pyplot as plt\n",
        "import seaborn as sns\n",
        "from sklearn.ensemble import RandomForestClassifier\n",
        "from sklearn.model_selection import train_test_split\n",
        "from sklearn.model_selection import cross_val_score\n",
        "from sklearn.metrics import classification_report, confusion_matrix\n",
        "from sklearn.metrics import roc_curve, auc"
      ],
      "execution_count": 2,
      "outputs": [
        {
          "output_type": "stream",
          "text": [
            "/usr/local/lib/python3.6/dist-packages/statsmodels/tools/_testing.py:19: FutureWarning: pandas.util.testing is deprecated. Use the functions in the public API at pandas.testing instead.\n",
            "  import pandas.util.testing as tm\n"
          ],
          "name": "stderr"
        }
      ]
    },
    {
      "cell_type": "markdown",
      "metadata": {
        "id": "LDqmNccUTFFe",
        "colab_type": "text"
      },
      "source": [
        "Loading data from files\n",
        " \n",
        "\n",
        "\n",
        "We will now load a file stored in excel format with 6 sheets called crunchbase_monthly_export.xlsx \n",
        "These 6 sheets represent the information of the companies  with recorded frundasing.\n",
        "The main parameters are : \n",
        "\n",
        "1.   company information (name,market,status,country code)\n",
        "2.   Rounds \n",
        "3.   Investments \n",
        "4.   Acquisitions  \n",
        "\n"
      ]
    },
    {
      "cell_type": "code",
      "metadata": {
        "id": "h-jlDWOmS9xR",
        "colab_type": "code",
        "outputId": "8e0303ef-49a1-468e-ec08-cdad79ef904e",
        "colab": {
          "base_uri": "https://localhost:8080/",
          "height": 54
        }
      },
      "source": [
        "drive.mount('/content/drive')"
      ],
      "execution_count": 3,
      "outputs": [
        {
          "output_type": "stream",
          "text": [
            "Drive already mounted at /content/drive; to attempt to forcibly remount, call drive.mount(\"/content/drive\", force_remount=True).\n"
          ],
          "name": "stdout"
        }
      ]
    },
    {
      "cell_type": "code",
      "metadata": {
        "id": "HW1zkTS3ipk5",
        "colab_type": "code",
        "outputId": "43e92033-9f0e-4c5c-f6fd-396913de1fff",
        "colab": {
          "base_uri": "https://localhost:8080/",
          "height": 34
        }
      },
      "source": [
        "!ls \"/content/drive/My Drive/umba\""
      ],
      "execution_count": 4,
      "outputs": [
        {
          "output_type": "stream",
          "text": [
            "crunchbase_monthly_export_d43b4klo2ade53.xlsx\n"
          ],
          "name": "stdout"
        }
      ]
    },
    {
      "cell_type": "code",
      "metadata": {
        "id": "duwckvkli9kE",
        "colab_type": "code",
        "colab": {}
      },
      "source": [
        "data = pd.read_excel('/content/drive/My Drive/umba/crunchbase_monthly_export_d43b4klo2ade53.xlsx',sheet_name=None)"
      ],
      "execution_count": 0,
      "outputs": []
    },
    {
      "cell_type": "markdown",
      "metadata": {
        "id": "OOiZP37v7Luu",
        "colab_type": "text"
      },
      "source": [
        "Definition of funtions "
      ]
    },
    {
      "cell_type": "code",
      "metadata": {
        "id": "mpkldUVx2kCm",
        "colab_type": "code",
        "colab": {}
      },
      "source": [
        "def missing_values_table(df):   #funtion that count the missing values of a data frame \n",
        "        mis_val = df.isnull().sum()\n",
        "        mis_val_percent = (100 * df.isnull().sum() / len(df))\n",
        "        mis_val_table = pd.concat([mis_val, mis_val_percent], axis=1)\n",
        "        mis_val_table_ren_columns = mis_val_table.rename(\n",
        "        columns = {0 : 'Missing Values', 1 : '% of Total Values'})\n",
        "        mis_val_table_ren_columns = mis_val_table_ren_columns[\n",
        "            mis_val_table_ren_columns.iloc[:,1] != 0].sort_values(\n",
        "        '% of Total Values', ascending=False).round(1)\n",
        "        print (\"Your selected dataframe has \" + str(df.shape[1]) + \" columns.\\n\"      \n",
        "            \"There are \" + str(mis_val_table_ren_columns.shape[0]) +\n",
        "              \" columns that have missing values.\")\n",
        "        return mis_val_table_ren_columns"
      ],
      "execution_count": 0,
      "outputs": []
    },
    {
      "cell_type": "code",
      "metadata": {
        "id": "1HCUcOht67p2",
        "colab_type": "code",
        "colab": {}
      },
      "source": [
        "def count_word(df, ref_col, liste): #funtion that count the number of words in a string \n",
        "    keyword_count = dict()\n",
        "    for s in liste: keyword_count[s] = 0\n",
        "    for liste_keywords in df[ref_col].str.split('|'):        \n",
        "        if type(liste_keywords) == float and pd.isnull(liste_keywords): continue        \n",
        "        for s in [s for s in liste_keywords if s in liste]: \n",
        "            if pd.notnull(s): keyword_count[s] += 1\n",
        "    #______________________________________________________________________\n",
        "    # convert the dictionary in a list to sort the keywords by frequency\n",
        "    keyword_occurences = []\n",
        "    for k,v in keyword_count.items():\n",
        "        keyword_occurences.append([k,v])\n",
        "    keyword_occurences.sort(key = lambda x:x[1], reverse = True)\n",
        "    return keyword_occurences, keyword_count"
      ],
      "execution_count": 0,
      "outputs": []
    },
    {
      "cell_type": "code",
      "metadata": {
        "id": "07n0uyivyDeP",
        "colab_type": "code",
        "colab": {}
      },
      "source": [
        "def evaluate_model(X_train, X_val, y_train, y_val):\n",
        " \n",
        "    model = None\n",
        " \n",
        "    sequence_length = X_train.shape[1]\n",
        "    filter_sizes = [3,4,5]\n",
        "    num_filters = 100\n",
        "    drop = 0.5\n",
        " \n",
        "    inputs = Input(shape=(sequence_length,), dtype='int32')\n",
        "    embedding = non_static_embedding(inputs)\n",
        "    reshape = Reshape((sequence_length,EMBEDDING_DIM,1))(embedding)\n",
        "    convolution1 = Conv2D(num_filters, (filter_sizes[0], EMBEDDING_DIM),activation='relu')(reshape)\n",
        "    convolution2 = Conv2D(num_filters, (filter_sizes[1], EMBEDDING_DIM),activation='relu')(reshape)\n",
        "    convolution3 = Conv2D(num_filters, (filter_sizes[2], EMBEDDING_DIM),activation='relu')(reshape)\n",
        "    maxpooling1 = MaxPooling2D((sequence_length - filter_sizes[0]+1,1), strides=(1,1), padding = 'valid') (convolution1)\n",
        "    maxpooling2 = MaxPooling2D((sequence_length - filter_sizes[1] + 1, 1), strides=(1,1), padding = 'valid')(convolution1)\n",
        "    maxpooling3 = MaxPooling2D((sequence_length - filter_sizes[2] + 1, 1), strides=(1,1), padding = 'valid')(convolution1)\n",
        "    merged = concatenate([maxpooling1, maxpooling2, maxpooling3], axis=1)\n",
        "    flatten = Flatten()(merged)\n",
        "    dropout = Dropout(drop)(flatten)\n",
        "    output = Dense(units=1, activation='sigmoid', kernel_regularizer=regularizers.l2(3))(dropout)\n",
        "    model = Model(inputs, output)\n",
        "    epochs = 100\n",
        "    batch_size = 50\n",
        "    model.compile(loss='binary_crossentropy', optimizer=Adadelta(lr=1), metrics=['acc'])\n",
        "    #model.save_weights('model.h5') #\n",
        "    callbacks = [EarlyStopping(monitor='val_acc', patience = 10)]\n",
        "    model.fit(X_train, y_train, validation_data = (X_val,y_val), epochs=epochs, batch_size=batch_size, verbose=2)#, callbacks = callbacks) \n",
        "    _, val_acc = model.evaluate(X_val, y_val, verbose = 1)\n",
        "   #model.load_weights('model.h5') #\n",
        " "
      ],
      "execution_count": 0,
      "outputs": []
    },
    {
      "cell_type": "code",
      "metadata": {
        "id": "qeqdCpeH7K3Z",
        "colab_type": "code",
        "colab": {}
      },
      "source": [
        "def makeCloud(Dict,name,color): #funtion to create a cloud of words \n",
        "    words = dict()\n",
        "\n",
        "    for s in Dict:\n",
        "        words[s[0]] = s[1]\n",
        "\n",
        "        wordcloud = WordCloud(\n",
        "                      width=1500,\n",
        "                      height=750, \n",
        "                      background_color=color, \n",
        "                      max_words=50,\n",
        "                      max_font_size=500, \n",
        "                      normalize_plurals=False)\n",
        "        wordcloud.generate_from_frequencies(words)\n",
        "\n",
        "\n",
        "    fig = plt.figure(figsize=(12, 8))\n",
        "    plt.title(name)\n",
        "    plt.imshow(wordcloud)\n",
        "    plt.axis('off')\n",
        "\n",
        "    plt.show()"
      ],
      "execution_count": 0,
      "outputs": []
    },
    {
      "cell_type": "markdown",
      "metadata": {
        "id": "x05D2wBX0q17",
        "colab_type": "text"
      },
      "source": [
        "TechCrunch is an American online publisher focusing on the tech industry. The company specifically reports on the business related to tech, technology news, analysis of emerging trends in tech, and profiling of new tech businesses and products. It was one of the earliest publications to report extensively on tech startups and funding. "
      ]
    },
    {
      "cell_type": "markdown",
      "metadata": {
        "id": "5QoL4XhjlA1D",
        "colab_type": "text"
      },
      "source": [
        "This nformation is from the TechCrush open data set. That describe a total of 49K companies"
      ]
    },
    {
      "cell_type": "code",
      "metadata": {
        "id": "XdJcJS3K0NDk",
        "colab_type": "code",
        "colab": {}
      },
      "source": [
        "odict_keys=['Companies', 'Rounds', 'Investments', 'Acquisitions'] #names of the sheets"
      ],
      "execution_count": 0,
      "outputs": []
    },
    {
      "cell_type": "code",
      "metadata": {
        "id": "pll61G-pvBUI",
        "colab_type": "code",
        "colab": {
          "base_uri": "https://localhost:8080/",
          "height": 316
        },
        "outputId": "a44723b3-7afa-49c3-85df-922ea03b6c8f"
      },
      "source": [
        "data[odict_keys[0]].head()"
      ],
      "execution_count": 10,
      "outputs": [
        {
          "output_type": "execute_result",
          "data": {
            "text/html": [
              "<div>\n",
              "<style scoped>\n",
              "    .dataframe tbody tr th:only-of-type {\n",
              "        vertical-align: middle;\n",
              "    }\n",
              "\n",
              "    .dataframe tbody tr th {\n",
              "        vertical-align: top;\n",
              "    }\n",
              "\n",
              "    .dataframe thead th {\n",
              "        text-align: right;\n",
              "    }\n",
              "</style>\n",
              "<table border=\"1\" class=\"dataframe\">\n",
              "  <thead>\n",
              "    <tr style=\"text-align: right;\">\n",
              "      <th></th>\n",
              "      <th>permalink</th>\n",
              "      <th>name</th>\n",
              "      <th>homepage_url</th>\n",
              "      <th>category_list</th>\n",
              "      <th>market</th>\n",
              "      <th>funding_total_usd</th>\n",
              "      <th>status</th>\n",
              "      <th>country_code</th>\n",
              "      <th>state_code</th>\n",
              "      <th>region</th>\n",
              "      <th>city</th>\n",
              "      <th>funding_rounds</th>\n",
              "      <th>founded_at</th>\n",
              "      <th>founded_month</th>\n",
              "      <th>founded_quarter</th>\n",
              "      <th>founded_year</th>\n",
              "      <th>first_funding_at</th>\n",
              "      <th>last_funding_at</th>\n",
              "    </tr>\n",
              "  </thead>\n",
              "  <tbody>\n",
              "    <tr>\n",
              "      <th>0</th>\n",
              "      <td>/organization/waywire</td>\n",
              "      <td>#waywire</td>\n",
              "      <td>http://www.waywire.com</td>\n",
              "      <td>|Entertainment|Politics|Social Media|News|</td>\n",
              "      <td>News</td>\n",
              "      <td>1750000</td>\n",
              "      <td>acquired</td>\n",
              "      <td>USA</td>\n",
              "      <td>NY</td>\n",
              "      <td>New York City</td>\n",
              "      <td>New York</td>\n",
              "      <td>1</td>\n",
              "      <td>2012-06-01 00:00:00</td>\n",
              "      <td>2012-06</td>\n",
              "      <td>2012-Q2</td>\n",
              "      <td>2012.0</td>\n",
              "      <td>2012-06-30 00:00:00</td>\n",
              "      <td>2012-06-30 00:00:00</td>\n",
              "    </tr>\n",
              "    <tr>\n",
              "      <th>1</th>\n",
              "      <td>/organization/tv-communications</td>\n",
              "      <td>&amp;TV Communications</td>\n",
              "      <td>http://enjoyandtv.com</td>\n",
              "      <td>|Games|</td>\n",
              "      <td>Games</td>\n",
              "      <td>4000000</td>\n",
              "      <td>operating</td>\n",
              "      <td>USA</td>\n",
              "      <td>CA</td>\n",
              "      <td>Los Angeles</td>\n",
              "      <td>Los Angeles</td>\n",
              "      <td>2</td>\n",
              "      <td>NaN</td>\n",
              "      <td>NaN</td>\n",
              "      <td>NaN</td>\n",
              "      <td>NaN</td>\n",
              "      <td>2010-06-04 00:00:00</td>\n",
              "      <td>2010-09-23 00:00:00</td>\n",
              "    </tr>\n",
              "    <tr>\n",
              "      <th>2</th>\n",
              "      <td>/organization/rock-your-paper</td>\n",
              "      <td>'Rock' Your Paper</td>\n",
              "      <td>http://www.rockyourpaper.org</td>\n",
              "      <td>|Publishing|Education|</td>\n",
              "      <td>Publishing</td>\n",
              "      <td>40000</td>\n",
              "      <td>operating</td>\n",
              "      <td>EST</td>\n",
              "      <td>NaN</td>\n",
              "      <td>Tallinn</td>\n",
              "      <td>Tallinn</td>\n",
              "      <td>1</td>\n",
              "      <td>2012-10-26 00:00:00</td>\n",
              "      <td>2012-10</td>\n",
              "      <td>2012-Q4</td>\n",
              "      <td>2012.0</td>\n",
              "      <td>2012-08-09 00:00:00</td>\n",
              "      <td>2012-08-09 00:00:00</td>\n",
              "    </tr>\n",
              "    <tr>\n",
              "      <th>3</th>\n",
              "      <td>/organization/in-touch-network</td>\n",
              "      <td>(In)Touch Network</td>\n",
              "      <td>http://www.InTouchNetwork.com</td>\n",
              "      <td>|Electronics|Guides|Coffee|Restaurants|Music|i...</td>\n",
              "      <td>Electronics</td>\n",
              "      <td>1500000</td>\n",
              "      <td>operating</td>\n",
              "      <td>GBR</td>\n",
              "      <td>NaN</td>\n",
              "      <td>London</td>\n",
              "      <td>London</td>\n",
              "      <td>1</td>\n",
              "      <td>2011-04-01 00:00:00</td>\n",
              "      <td>2011-04</td>\n",
              "      <td>2011-Q2</td>\n",
              "      <td>2011.0</td>\n",
              "      <td>2011-04-01 00:00:00</td>\n",
              "      <td>2011-04-01 00:00:00</td>\n",
              "    </tr>\n",
              "    <tr>\n",
              "      <th>4</th>\n",
              "      <td>/organization/r-ranch-and-mine</td>\n",
              "      <td>-R- Ranch and Mine</td>\n",
              "      <td>NaN</td>\n",
              "      <td>|Tourism|Entertainment|Games|</td>\n",
              "      <td>Tourism</td>\n",
              "      <td>60000</td>\n",
              "      <td>operating</td>\n",
              "      <td>USA</td>\n",
              "      <td>TX</td>\n",
              "      <td>Dallas</td>\n",
              "      <td>Fort Worth</td>\n",
              "      <td>2</td>\n",
              "      <td>2014-01-01 00:00:00</td>\n",
              "      <td>2014-01</td>\n",
              "      <td>2014-Q1</td>\n",
              "      <td>2014.0</td>\n",
              "      <td>2014-08-17 00:00:00</td>\n",
              "      <td>2014-09-26 00:00:00</td>\n",
              "    </tr>\n",
              "  </tbody>\n",
              "</table>\n",
              "</div>"
            ],
            "text/plain": [
              "                         permalink  ...      last_funding_at\n",
              "0            /organization/waywire  ...  2012-06-30 00:00:00\n",
              "1  /organization/tv-communications  ...  2010-09-23 00:00:00\n",
              "2    /organization/rock-your-paper  ...  2012-08-09 00:00:00\n",
              "3   /organization/in-touch-network  ...  2011-04-01 00:00:00\n",
              "4   /organization/r-ranch-and-mine  ...  2014-09-26 00:00:00\n",
              "\n",
              "[5 rows x 18 columns]"
            ]
          },
          "metadata": {
            "tags": []
          },
          "execution_count": 10
        }
      ]
    },
    {
      "cell_type": "markdown",
      "metadata": {
        "id": "8HUjxaf59zMr",
        "colab_type": "text"
      },
      "source": [
        "We will focus on the information of the companies.\n",
        "\n",
        "---\n",
        "\n"
      ]
    },
    {
      "cell_type": "code",
      "metadata": {
        "id": "nyInTos3HPWX",
        "colab_type": "code",
        "colab": {
          "base_uri": "https://localhost:8080/",
          "height": 84
        },
        "outputId": "ea58849d-72d8-4c18-ecb0-e810b9898018"
      },
      "source": [
        "print( data[odict_keys[0]].columns.values )"
      ],
      "execution_count": 11,
      "outputs": [
        {
          "output_type": "stream",
          "text": [
            "['permalink' 'name' 'homepage_url' 'category_list' 'market'\n",
            " 'funding_total_usd' 'status' 'country_code' 'state_code' 'region' 'city'\n",
            " 'funding_rounds' 'founded_at' 'founded_month' 'founded_quarter'\n",
            " 'founded_year' 'first_funding_at' 'last_funding_at']\n"
          ],
          "name": "stdout"
        }
      ]
    },
    {
      "cell_type": "code",
      "metadata": {
        "id": "5Q4UW4FoRyIw",
        "colab_type": "code",
        "colab": {
          "base_uri": "https://localhost:8080/",
          "height": 454
        },
        "outputId": "d0a063d2-1c06-407d-ab5e-b13d21c6acb1"
      },
      "source": [
        "print(data[odict_keys[0]].info())"
      ],
      "execution_count": 12,
      "outputs": [
        {
          "output_type": "stream",
          "text": [
            "<class 'pandas.core.frame.DataFrame'>\n",
            "RangeIndex: 49438 entries, 0 to 49437\n",
            "Data columns (total 18 columns):\n",
            " #   Column             Non-Null Count  Dtype  \n",
            "---  ------             --------------  -----  \n",
            " 0   permalink          49438 non-null  object \n",
            " 1   name               49437 non-null  object \n",
            " 2   homepage_url       45989 non-null  object \n",
            " 3   category_list      45477 non-null  object \n",
            " 4   market             45470 non-null  object \n",
            " 5   funding_total_usd  49438 non-null  int64  \n",
            " 6   status             48124 non-null  object \n",
            " 7   country_code       44165 non-null  object \n",
            " 8   state_code         30161 non-null  object \n",
            " 9   region             44165 non-null  object \n",
            " 10  city               43322 non-null  object \n",
            " 11  funding_rounds     49438 non-null  int64  \n",
            " 12  founded_at         38554 non-null  object \n",
            " 13  founded_month      38482 non-null  object \n",
            " 14  founded_quarter    38482 non-null  object \n",
            " 15  founded_year       38482 non-null  float64\n",
            " 16  first_funding_at   49438 non-null  object \n",
            " 17  last_funding_at    49438 non-null  object \n",
            "dtypes: float64(1), int64(2), object(15)\n",
            "memory usage: 6.8+ MB\n",
            "None\n"
          ],
          "name": "stdout"
        }
      ]
    },
    {
      "cell_type": "markdown",
      "metadata": {
        "id": "jKg1R5sx2c3j",
        "colab_type": "text"
      },
      "source": [
        "Missing Values Measuring of the companies' information"
      ]
    },
    {
      "cell_type": "code",
      "metadata": {
        "id": "QpRMRfC02ogA",
        "colab_type": "code",
        "colab": {
          "base_uri": "https://localhost:8080/",
          "height": 466
        },
        "outputId": "51454858-b3c9-4d61-d89d-2738a0ea9252"
      },
      "source": [
        "missing_values_table(data[odict_keys[0]])"
      ],
      "execution_count": 13,
      "outputs": [
        {
          "output_type": "stream",
          "text": [
            "Your selected dataframe has 18 columns.\n",
            "There are 13 columns that have missing values.\n"
          ],
          "name": "stdout"
        },
        {
          "output_type": "execute_result",
          "data": {
            "text/html": [
              "<div>\n",
              "<style scoped>\n",
              "    .dataframe tbody tr th:only-of-type {\n",
              "        vertical-align: middle;\n",
              "    }\n",
              "\n",
              "    .dataframe tbody tr th {\n",
              "        vertical-align: top;\n",
              "    }\n",
              "\n",
              "    .dataframe thead th {\n",
              "        text-align: right;\n",
              "    }\n",
              "</style>\n",
              "<table border=\"1\" class=\"dataframe\">\n",
              "  <thead>\n",
              "    <tr style=\"text-align: right;\">\n",
              "      <th></th>\n",
              "      <th>Missing Values</th>\n",
              "      <th>% of Total Values</th>\n",
              "    </tr>\n",
              "  </thead>\n",
              "  <tbody>\n",
              "    <tr>\n",
              "      <th>state_code</th>\n",
              "      <td>19277</td>\n",
              "      <td>39.0</td>\n",
              "    </tr>\n",
              "    <tr>\n",
              "      <th>founded_month</th>\n",
              "      <td>10956</td>\n",
              "      <td>22.2</td>\n",
              "    </tr>\n",
              "    <tr>\n",
              "      <th>founded_quarter</th>\n",
              "      <td>10956</td>\n",
              "      <td>22.2</td>\n",
              "    </tr>\n",
              "    <tr>\n",
              "      <th>founded_year</th>\n",
              "      <td>10956</td>\n",
              "      <td>22.2</td>\n",
              "    </tr>\n",
              "    <tr>\n",
              "      <th>founded_at</th>\n",
              "      <td>10884</td>\n",
              "      <td>22.0</td>\n",
              "    </tr>\n",
              "    <tr>\n",
              "      <th>city</th>\n",
              "      <td>6116</td>\n",
              "      <td>12.4</td>\n",
              "    </tr>\n",
              "    <tr>\n",
              "      <th>country_code</th>\n",
              "      <td>5273</td>\n",
              "      <td>10.7</td>\n",
              "    </tr>\n",
              "    <tr>\n",
              "      <th>region</th>\n",
              "      <td>5273</td>\n",
              "      <td>10.7</td>\n",
              "    </tr>\n",
              "    <tr>\n",
              "      <th>market</th>\n",
              "      <td>3968</td>\n",
              "      <td>8.0</td>\n",
              "    </tr>\n",
              "    <tr>\n",
              "      <th>category_list</th>\n",
              "      <td>3961</td>\n",
              "      <td>8.0</td>\n",
              "    </tr>\n",
              "    <tr>\n",
              "      <th>homepage_url</th>\n",
              "      <td>3449</td>\n",
              "      <td>7.0</td>\n",
              "    </tr>\n",
              "    <tr>\n",
              "      <th>status</th>\n",
              "      <td>1314</td>\n",
              "      <td>2.7</td>\n",
              "    </tr>\n",
              "    <tr>\n",
              "      <th>name</th>\n",
              "      <td>1</td>\n",
              "      <td>0.0</td>\n",
              "    </tr>\n",
              "  </tbody>\n",
              "</table>\n",
              "</div>"
            ],
            "text/plain": [
              "                 Missing Values  % of Total Values\n",
              "state_code                19277               39.0\n",
              "founded_month             10956               22.2\n",
              "founded_quarter           10956               22.2\n",
              "founded_year              10956               22.2\n",
              "founded_at                10884               22.0\n",
              "city                       6116               12.4\n",
              "country_code               5273               10.7\n",
              "region                     5273               10.7\n",
              "market                     3968                8.0\n",
              "category_list              3961                8.0\n",
              "homepage_url               3449                7.0\n",
              "status                     1314                2.7\n",
              "name                          1                0.0"
            ]
          },
          "metadata": {
            "tags": []
          },
          "execution_count": 13
        }
      ]
    },
    {
      "cell_type": "markdown",
      "metadata": {
        "id": "9m6o_53l5de_",
        "colab_type": "text"
      },
      "source": [
        "status \n",
        "the status may be closed, acquired and operating "
      ]
    },
    {
      "cell_type": "code",
      "metadata": {
        "id": "RivtpMaT4aOe",
        "colab_type": "code",
        "colab": {}
      },
      "source": [
        "plt.rcParams['figure.figsize'] = 10,10\n",
        "labels = data[odict_keys[0]]['status'].value_counts().index.tolist()\n",
        "sizes = data[odict_keys[0]]['status'].value_counts().tolist()\n",
        "explode = (0, 0, 0.2)\n",
        "colors = ['#99ff99','#66b3ff','#ff9999']\n"
      ],
      "execution_count": 0,
      "outputs": []
    },
    {
      "cell_type": "code",
      "metadata": {
        "id": "Etbbw4wP4_j3",
        "colab_type": "code",
        "colab": {
          "base_uri": "https://localhost:8080/",
          "height": 746
        },
        "outputId": "f0e521b7-0b66-4ac4-8f31-0b1f900aa4ab"
      },
      "source": [
        "plt.pie(sizes, explode=explode, labels=labels, colors=colors, autopct='%1.1f%%',\n",
        "        shadow=False, startangle=30)\n",
        "plt.axis('equal')\n",
        "plt.tight_layout()\n",
        "plt.title(\"What is start up companies current status\", fontdict=None, position= [0.48,1], size = 'x-large')\n",
        "plt.show()"
      ],
      "execution_count": 15,
      "outputs": [
        {
          "output_type": "display_data",
          "data": {
            "image/png": "[encoded data removed]",
            "text/plain": [
              "<Figure size 720x720 with 1 Axes>"
            ]
          },
          "metadata": {
            "tags": []
          }
        }
      ]
    },
    {
      "cell_type": "markdown",
      "metadata": {
        "id": "upW3GrFh9OAN",
        "colab_type": "text"
      },
      "source": [
        "**Category **\n",
        "the category shows the class of company for example, software, games, education,etc"
      ]
    },
    {
      "cell_type": "code",
      "metadata": {
        "id": "yjWQ0K015lV1",
        "colab_type": "code",
        "colab": {
          "base_uri": "https://localhost:8080/",
          "height": 618
        },
        "outputId": "5bb0ae67-16ef-4dc4-c60c-e3fbae542812"
      },
      "source": [
        "plt.rcParams['figure.figsize'] = 15,8\n",
        "\n",
        "height = data[odict_keys[0]]['market'].value_counts()[:15].tolist()\n",
        "bars =  data[odict_keys[0]]['market'].value_counts()[:15].index.tolist()\n",
        "y_pos = np.arange(len(bars))\n",
        "plt.bar(y_pos, height , width=0.7 ,color= ['c']+['paleturquoise']*14)\n",
        "plt.xticks(y_pos, bars)\n",
        "plt.xticks(rotation=90)\n",
        "plt.title(\"Top 15 Start-Up market category\", fontdict=None, position= [0.48,1.05], size = 'x-large')\n",
        "plt.show()"
      ],
      "execution_count": 16,
      "outputs": [
        {
          "output_type": "display_data",
          "data": {
            "image/png": "[encoded data removed]",
            "text/plain": [
              "<Figure size 1080x576 with 1 Axes>"
            ]
          },
          "metadata": {
            "tags": [],
            "needs_background": "light"
          }
        }
      ]
    },
    {
      "cell_type": "code",
      "metadata": {
        "id": "2Qgs3XPy6oNA",
        "colab_type": "code",
        "colab": {}
      },
      "source": [
        "set_keywords = set()\n",
        "for liste_keywords in  data[odict_keys[0]]['category_list'].str.split('|').values:\n",
        "    if isinstance(liste_keywords, float): continue  # only happen if liste_keywords = NaN\n",
        "    set_keywords = set_keywords.union(liste_keywords)\n",
        "#_________________________\n",
        "# remove null chain entry\n",
        "set_keywords.remove('')"
      ],
      "execution_count": 0,
      "outputs": []
    },
    {
      "cell_type": "code",
      "metadata": {
        "id": "HuwqdaNA76O3",
        "colab_type": "code",
        "colab": {}
      },
      "source": [
        "data1=data[odict_keys[0]]"
      ],
      "execution_count": 0,
      "outputs": []
    },
    {
      "cell_type": "code",
      "metadata": {
        "id": "gUX8u7W46yi8",
        "colab_type": "code",
        "colab": {}
      },
      "source": [
        "keyword_occurences, dum = count_word(data1,'category_list',set_keywords)"
      ],
      "execution_count": 0,
      "outputs": []
    },
    {
      "cell_type": "code",
      "metadata": {
        "id": "xohyyY2v8IJv",
        "colab_type": "code",
        "outputId": "02d794ee-1271-4d5d-85e9-88f3c2b01e5e",
        "colab": {
          "base_uri": "https://localhost:8080/",
          "height": 382
        }
      },
      "source": [
        "makeCloud(keyword_occurences[0:15],\"Keywords\",\"White\")\n"
      ],
      "execution_count": 20,
      "outputs": [
        {
          "output_type": "display_data",
          "data": {
            "image/png": "[encoded data removed]",
            "text/plain": [
              "<Figure size 864x576 with 1 Axes>"
            ]
          },
          "metadata": {
            "tags": [],
            "needs_background": "light"
          }
        }
      ]
    },
    {
      "cell_type": "markdown",
      "metadata": {
        "id": "eRMD1Cxr9pKc",
        "colab_type": "text"
      },
      "source": [
        "The most popular category is still about Software & Mobile,\n",
        "It maybe because these 2 categories are easily to scalable ? "
      ]
    },
    {
      "cell_type": "markdown",
      "metadata": {
        "id": "JbhWrYjt9KQP",
        "colab_type": "text"
      },
      "source": [
        " Total Funding USD"
      ]
    },
    {
      "cell_type": "code",
      "metadata": {
        "id": "2HNdhuPVIzpK",
        "colab_type": "code",
        "colab": {
          "base_uri": "https://localhost:8080/",
          "height": 118
        },
        "outputId": "a72ae072-38d1-42fd-fcd3-7722295b9cf7"
      },
      "source": [
        "data1['funding_total_usd'].head()\n"
      ],
      "execution_count": 21,
      "outputs": [
        {
          "output_type": "execute_result",
          "data": {
            "text/plain": [
              "0    1750000\n",
              "1    4000000\n",
              "2      40000\n",
              "3    1500000\n",
              "4      60000\n",
              "Name: funding_total_usd, dtype: int64"
            ]
          },
          "metadata": {
            "tags": []
          },
          "execution_count": 21
        }
      ]
    },
    {
      "cell_type": "markdown",
      "metadata": {
        "id": "nayf1JvcI8nA",
        "colab_type": "text"
      },
      "source": [
        "Unlucky..., this column is provided in \"string\" format which contain comma(,) minus(-) and space ( )\n",
        "we need to replace them and convert it to numeric format first\n"
      ]
    },
    {
      "cell_type": "code",
      "metadata": {
        "id": "bhF6xvBsI7ee",
        "colab_type": "code",
        "colab": {}
      },
      "source": [
        "#data1['funding_total_usd'] = data1['funding_total_usd'].str.replace(',', '')\n",
        "#data1['funding_total_usd'] = data1['funding_total_usd'].str.replace('-', '')\n",
        "#data1['funding_total_usd'] = data1['funding_total_usd'].str.replace(' ', '')\n",
        "\n",
        "#data1['funding_total_usd'] = pd.to_numeric(data1['funding_total_usd'], errors='coerce')"
      ],
      "execution_count": 0,
      "outputs": []
    },
    {
      "cell_type": "markdown",
      "metadata": {
        "id": "ZsFxeLaL9dgS",
        "colab_type": "text"
      },
      "source": [
        "Distribution of total"
      ]
    },
    {
      "cell_type": "code",
      "metadata": {
        "id": "ozF9CQqaJ3je",
        "colab_type": "code",
        "colab": {
          "base_uri": "https://localhost:8080/",
          "height": 421
        },
        "outputId": "f57ed4d5-db19-4052-9aea-184ce96dfb99"
      },
      "source": [
        "plt.rcParams['figure.figsize'] = 15,6\n",
        "plt.hist(data1['funding_total_usd'].dropna(), bins=30)\n",
        "plt.ylabel('Count')\n",
        "plt.xlabel('Fnding (usd)')\n",
        "plt.title(\"Distribution of total funding \", fontdict=None, position= [0.48,1.05], size = 'x-large')\n",
        "plt.show()"
      ],
      "execution_count": 23,
      "outputs": [
        {
          "output_type": "display_data",
          "data": {
            "image/png": "[encoded data removed]",
            "text/plain": [
              "<Figure size 1080x432 with 1 Axes>"
            ]
          },
          "metadata": {
            "tags": [],
            "needs_background": "light"
          }
        }
      ]
    },
    {
      "cell_type": "markdown",
      "metadata": {
        "id": "CwRuPDI-KLIk",
        "colab_type": "text"
      },
      "source": [
        "Seem like it has large gap between the highest value and the lowest"
      ]
    },
    {
      "cell_type": "code",
      "metadata": {
        "id": "GO6De14IKFl8",
        "colab_type": "code",
        "colab": {}
      },
      "source": [
        "Q1 = data1['funding_total_usd'].quantile(0.25)\n",
        "Q3 = data1['funding_total_usd'].quantile(0.75)\n",
        "IQR = Q3 - Q1\n",
        "lower_bound = (Q1 - 1.5 * IQR)\n",
        "upper_bound = (Q3 + 1.5 * IQR)"
      ],
      "execution_count": 0,
      "outputs": []
    },
    {
      "cell_type": "code",
      "metadata": {
        "id": "N1axEOFqKQvv",
        "colab_type": "code",
        "colab": {}
      },
      "source": [
        "without_outlier = data1[(data1['funding_total_usd'] > lower_bound ) & (data1['funding_total_usd'] < upper_bound)]"
      ],
      "execution_count": 0,
      "outputs": []
    },
    {
      "cell_type": "code",
      "metadata": {
        "id": "AgrXPJrbKc3H",
        "colab_type": "code",
        "outputId": "66ed15f5-3287-48b3-dee8-c06be7fe3e26",
        "colab": {
          "base_uri": "https://localhost:8080/",
          "height": 421
        }
      },
      "source": [
        "plt.rcParams['figure.figsize'] = 15,6\n",
        "plt.hist(without_outlier['funding_total_usd'].dropna(), bins=30,color = 'paleturquoise' )\n",
        "\n",
        "plt.ylabel('Count')\n",
        "plt.xlabel('Funding (usd)')\n",
        "plt.title(\"Distribution of total funding \", fontdict=None, position= [0.48,1.05], size = 'x-large')\n",
        "plt.show()\n"
      ],
      "execution_count": 26,
      "outputs": [
        {
          "output_type": "display_data",
          "data": {
            "image/png": "[encoded data removed]",
            "text/plain": [
              "<Figure size 1080x432 with 1 Axes>"
            ]
          },
          "metadata": {
            "tags": [],
            "needs_background": "light"
          }
        }
      ]
    },
    {
      "cell_type": "markdown",
      "metadata": {
        "id": "Ail2V2gaK28J",
        "colab_type": "text"
      },
      "source": [
        "\n",
        "The average funding is around 15 m usd.\n",
        "\n",
        "Let see the position of well-known company like Facebook, Alibaba, Uber but those companies are unicorn startup!!.\n",
        "Then, we  need to move hist plot to focus only funding >= 1 billion usd"
      ]
    },
    {
      "cell_type": "code",
      "metadata": {
        "id": "XKjdv0HsK_jE",
        "colab_type": "code",
        "colab": {}
      },
      "source": [
        "Facebook_total_funding = data1['funding_total_usd'][data1['name']==\"Facebook\"].values[0]\n",
        "Uber_total_funding = data1['funding_total_usd'][data1['name']==\"Uber\"].values[0]\n",
        "Alibaba_total_funding = data1['funding_total_usd'][data1['name']==\"Alibaba\"].values[0]\n",
        "Cloudera_total_funding = data1['funding_total_usd'][data1['name']==\"Cloudera\"].values[0]"
      ],
      "execution_count": 0,
      "outputs": []
    },
    {
      "cell_type": "code",
      "metadata": {
        "id": "HBi14ft0LbhD",
        "colab_type": "code",
        "outputId": "786974e9-98a8-4c83-a7af-d23756d00434",
        "colab": {
          "base_uri": "https://localhost:8080/",
          "height": 421
        }
      },
      "source": [
        "plt.rcParams['figure.figsize'] = 15,6\n",
        "\n",
        "plt.hist(data1['funding_total_usd'][(data1['funding_total_usd'] >= 1000000000)&(data1['funding_total_usd'] <= 3000000000)].dropna(), bins=30,color = 'lightcyan' )\n",
        "plt.ylabel('Count')\n",
        "plt.xlabel('Funding (usd)')\n",
        "plt.title(\"Where are the well-known companies ? \", fontdict=None, position= [0.48,1.05], size = 'x-large')\n",
        "\n",
        "plt.axvline(Facebook_total_funding,color='royalblue',linestyle =\"--\")\n",
        "plt.text(Facebook_total_funding+15000000, 2.6,\"Facebook\")\n",
        "\n",
        "plt.axvline(Uber_total_funding,color='black',linestyle =\"--\")\n",
        "plt.text(Uber_total_funding+10000000, 2.2,\"Uber\")\n",
        "\n",
        "plt.axvline(Cloudera_total_funding,color='dodgerblue',linestyle =\"--\")\n",
        "plt.text(Cloudera_total_funding+10000000, 1.9,\"Cloudera\")\n",
        "\n",
        "plt.axvline(Alibaba_total_funding,color='orange',linestyle =\"--\")\n",
        "plt.text(Alibaba_total_funding+10000000, 1.6,\"Alibaba\")\n",
        "#plt.ticklabel_format(style='plain')\n",
        "\n",
        "\n",
        "\n",
        "plt.show()\n"
      ],
      "execution_count": 28,
      "outputs": [
        {
          "output_type": "display_data",
          "data": {
            "image/png": "[encoded data removed]",
            "text/plain": [
              "<Figure size 1080x432 with 1 Axes>"
            ]
          },
          "metadata": {
            "tags": [],
            "needs_background": "light"
          }
        }
      ]
    },
    {
      "cell_type": "markdown",
      "metadata": {
        "id": "2U7ZzWcZMT3c",
        "colab_type": "text"
      },
      "source": [
        " Who get the highest funding ?"
      ]
    },
    {
      "cell_type": "code",
      "metadata": {
        "id": "JeR8N-gMLnmM",
        "colab_type": "code",
        "colab": {}
      },
      "source": [
        "Verizon_total_funding = data1['funding_total_usd'][data1['name']==\"Verizon Communications\"].values[0]\n",
        "Sberbank_total_funding = data1['funding_total_usd'][data1['name']==\"Sberbank\"].values[0]"
      ],
      "execution_count": 0,
      "outputs": []
    },
    {
      "cell_type": "code",
      "metadata": {
        "id": "UBjnvrBRMG65",
        "colab_type": "code",
        "outputId": "e35fdc61-9d16-477b-f3c2-2640c08614e7",
        "colab": {
          "base_uri": "https://localhost:8080/",
          "height": 421
        }
      },
      "source": [
        "plt.rcParams['figure.figsize'] = 15,6\n",
        "plt.hist(data1['funding_total_usd'][(data1['funding_total_usd'] >= 1000000000)].dropna(), bins=30,color = 'lightcyan' )\n",
        "plt.ylabel('Count')\n",
        "plt.xlabel('Funding (usd)')\n",
        "plt.title(\"Who get the highest funding ? \", fontdict=None, position= [0.48,1.05], size = 'x-large')\n",
        "\n",
        "plt.axvline(Facebook_total_funding,color='royalblue',linestyle =\"--\")\n",
        "plt.text(Facebook_total_funding+15000000, 11,\"Facebook\")\n",
        "\n",
        "plt.axvline(Uber_total_funding,color='black',linestyle =\"--\")\n",
        "plt.text(Uber_total_funding+10000000, 9,\"Uber\")\n",
        "\n",
        "plt.axvline(Cloudera_total_funding,color='dodgerblue',linestyle =\"--\")\n",
        "plt.text(Cloudera_total_funding+10000000, 7,\"Cloudera\")\n",
        "\n",
        "plt.axvline(Alibaba_total_funding,color='orange',linestyle =\"--\")\n",
        "plt.text(Alibaba_total_funding+10000000, 4,\"Alibaba\")\n",
        "\n",
        "plt.axvline(Verizon_total_funding,color='red',linestyle =\"--\")\n",
        "plt.text(Verizon_total_funding+100000000, 15,\"Verizon Communications\")\n",
        "\n",
        "plt.axvline(Sberbank_total_funding,color='mediumseagreen',linestyle =\"--\")\n",
        "plt.text(Sberbank_total_funding+100000000, 12,\"Sberbank\")\n",
        "\n",
        "\n",
        "plt.show()"
      ],
      "execution_count": 30,
      "outputs": [
        {
          "output_type": "display_data",
          "data": {
            "image/png": "[encoded data removed]",
            "text/plain": [
              "<Figure size 1080x432 with 1 Axes>"
            ]
          },
          "metadata": {
            "tags": [],
            "needs_background": "light"
          }
        }
      ]
    },
    {
      "cell_type": "markdown",
      "metadata": {
        "id": "o8HzGbjaNTp_",
        "colab_type": "text"
      },
      "source": [
        "#  (2) Training  ⚗️"
      ]
    },
    {
      "cell_type": "markdown",
      "metadata": {
        "id": "BiaPf4DZN2dx",
        "colab_type": "text"
      },
      "source": [
        "\n",
        "\n",
        "We will model the factors that describe the company status: operating/closed and acquired stage.\n",
        "\n",
        "---\n",
        "\n"
      ]
    },
    {
      "cell_type": "markdown",
      "metadata": {
        "id": "ur8oxbJ8Srmr",
        "colab_type": "text"
      },
      "source": [
        "This column(founded_at) is provided in term of string format which we need to convert to datetime first "
      ]
    },
    {
      "cell_type": "code",
      "metadata": {
        "id": "zsaQ6e-gNTeI",
        "colab_type": "code",
        "outputId": "9a11afc1-294f-45c8-83e1-c28425a05dcd",
        "colab": {
          "base_uri": "https://localhost:8080/",
          "height": 118
        }
      },
      "source": [
        "data1['founded_at'].head()"
      ],
      "execution_count": 31,
      "outputs": [
        {
          "output_type": "execute_result",
          "data": {
            "text/plain": [
              "0    2012-06-01 00:00:00\n",
              "1                    NaN\n",
              "2    2012-10-26 00:00:00\n",
              "3    2011-04-01 00:00:00\n",
              "4    2014-01-01 00:00:00\n",
              "Name: founded_at, dtype: object"
            ]
          },
          "metadata": {
            "tags": []
          },
          "execution_count": 31
        }
      ]
    },
    {
      "cell_type": "code",
      "metadata": {
        "id": "wTK8QgNEMusJ",
        "colab_type": "code",
        "colab": {}
      },
      "source": [
        "data1['founded_at'] = pd.to_datetime(data1['founded_at'], errors = 'coerce' )"
      ],
      "execution_count": 0,
      "outputs": []
    },
    {
      "cell_type": "code",
      "metadata": {
        "id": "8TBxmTtpS6Af",
        "colab_type": "code",
        "outputId": "677cb8d6-49a1-44c0-9789-2bb4ad92933f",
        "colab": {
          "base_uri": "https://localhost:8080/",
          "height": 422
        }
      },
      "source": [
        "plt.rcParams['figure.figsize'] = 15,6\n",
        "data1['name'].groupby(data1[\"founded_at\"].dt.year).count().plot(kind=\"line\")\n",
        "\n",
        "plt.ylabel('Count')\n",
        "plt.title(\"Founded distribution \", fontdict=None, position= [0.48,1.05], size = 'x-large')\n",
        "plt.show()\n"
      ],
      "execution_count": 33,
      "outputs": [
        {
          "output_type": "display_data",
          "data": {
            "image/png": "[encoded data removed]",
            "text/plain": [
              "<Figure size 1080x432 with 1 Axes>"
            ]
          },
          "metadata": {
            "tags": [],
            "needs_background": "light"
          }
        }
      ]
    },
    {
      "cell_type": "markdown",
      "metadata": {
        "id": "fkp1IoQUUDFw",
        "colab_type": "text"
      },
      "source": [
        "Founding information "
      ]
    },
    {
      "cell_type": "code",
      "metadata": {
        "id": "0MUKRIziW5mN",
        "colab_type": "code",
        "colab": {}
      },
      "source": [
        "category=data1['status'].astype('category') # y variable to describe "
      ],
      "execution_count": 0,
      "outputs": []
    },
    {
      "cell_type": "code",
      "metadata": {
        "id": "gY8GW8XnZYpN",
        "colab_type": "code",
        "colab": {}
      },
      "source": [
        "data_test_model= data1[['market','funding_total_usd','funding_rounds','status']] #select the variables to the model"
      ],
      "execution_count": 0,
      "outputs": []
    },
    {
      "cell_type": "code",
      "metadata": {
        "id": "nd4ZC31IGtEe",
        "colab_type": "code",
        "outputId": "7c8b6db4-b280-4a74-a5b8-2994eb3f8d8d",
        "colab": {
          "base_uri": "https://localhost:8080/",
          "height": 195
        }
      },
      "source": [
        "data_test_model.head()"
      ],
      "execution_count": 36,
      "outputs": [
        {
          "output_type": "execute_result",
          "data": {
            "text/html": [
              "<div>\n",
              "<style scoped>\n",
              "    .dataframe tbody tr th:only-of-type {\n",
              "        vertical-align: middle;\n",
              "    }\n",
              "\n",
              "    .dataframe tbody tr th {\n",
              "        vertical-align: top;\n",
              "    }\n",
              "\n",
              "    .dataframe thead th {\n",
              "        text-align: right;\n",
              "    }\n",
              "</style>\n",
              "<table border=\"1\" class=\"dataframe\">\n",
              "  <thead>\n",
              "    <tr style=\"text-align: right;\">\n",
              "      <th></th>\n",
              "      <th>market</th>\n",
              "      <th>funding_total_usd</th>\n",
              "      <th>funding_rounds</th>\n",
              "      <th>status</th>\n",
              "    </tr>\n",
              "  </thead>\n",
              "  <tbody>\n",
              "    <tr>\n",
              "      <th>0</th>\n",
              "      <td>News</td>\n",
              "      <td>1750000</td>\n",
              "      <td>1</td>\n",
              "      <td>acquired</td>\n",
              "    </tr>\n",
              "    <tr>\n",
              "      <th>1</th>\n",
              "      <td>Games</td>\n",
              "      <td>4000000</td>\n",
              "      <td>2</td>\n",
              "      <td>operating</td>\n",
              "    </tr>\n",
              "    <tr>\n",
              "      <th>2</th>\n",
              "      <td>Publishing</td>\n",
              "      <td>40000</td>\n",
              "      <td>1</td>\n",
              "      <td>operating</td>\n",
              "    </tr>\n",
              "    <tr>\n",
              "      <th>3</th>\n",
              "      <td>Electronics</td>\n",
              "      <td>1500000</td>\n",
              "      <td>1</td>\n",
              "      <td>operating</td>\n",
              "    </tr>\n",
              "    <tr>\n",
              "      <th>4</th>\n",
              "      <td>Tourism</td>\n",
              "      <td>60000</td>\n",
              "      <td>2</td>\n",
              "      <td>operating</td>\n",
              "    </tr>\n",
              "  </tbody>\n",
              "</table>\n",
              "</div>"
            ],
            "text/plain": [
              "        market  funding_total_usd  funding_rounds     status\n",
              "0         News            1750000               1   acquired\n",
              "1        Games            4000000               2  operating\n",
              "2   Publishing              40000               1  operating\n",
              "3  Electronics            1500000               1  operating\n",
              "4      Tourism              60000               2  operating"
            ]
          },
          "metadata": {
            "tags": []
          },
          "execution_count": 36
        }
      ]
    },
    {
      "cell_type": "code",
      "metadata": {
        "id": "Ea1l6xAFJFUD",
        "colab_type": "code",
        "colab": {}
      },
      "source": [
        "features=data_test_model.replace(np.nan,-9, regex=True) #avoid nan\n",
        "features['market'] = features['market'].str.replace('|', ' ') #cleaning data \n",
        "features['market'] = features['market'].str.replace('+', ' ') #cleaning data \n",
        "features['market'] = features['market'].str.replace('&', ' ') #cleaning data \n",
        "features['market'] = features['market'].str.replace('>', ' ') #cleaning data \n",
        "features['market'] = features['market'].str.replace('<', ' ') #cleaning data "
      ],
      "execution_count": 0,
      "outputs": []
    },
    {
      "cell_type": "code",
      "metadata": {
        "id": "TTu3nWkWpujh",
        "colab_type": "code",
        "colab": {}
      },
      "source": [
        "features['market']=features['market'].astype(\"string\")"
      ],
      "execution_count": 0,
      "outputs": []
    },
    {
      "cell_type": "code",
      "metadata": {
        "id": "-C1u3juKoyTA",
        "colab_type": "code",
        "outputId": "0a7a2551-7521-48a5-9100-e88cdb6ea6ab",
        "colab": {
          "base_uri": "https://localhost:8080/",
          "height": 195
        }
      },
      "source": [
        "features.head()"
      ],
      "execution_count": 39,
      "outputs": [
        {
          "output_type": "execute_result",
          "data": {
            "text/html": [
              "<div>\n",
              "<style scoped>\n",
              "    .dataframe tbody tr th:only-of-type {\n",
              "        vertical-align: middle;\n",
              "    }\n",
              "\n",
              "    .dataframe tbody tr th {\n",
              "        vertical-align: top;\n",
              "    }\n",
              "\n",
              "    .dataframe thead th {\n",
              "        text-align: right;\n",
              "    }\n",
              "</style>\n",
              "<table border=\"1\" class=\"dataframe\">\n",
              "  <thead>\n",
              "    <tr style=\"text-align: right;\">\n",
              "      <th></th>\n",
              "      <th>market</th>\n",
              "      <th>funding_total_usd</th>\n",
              "      <th>funding_rounds</th>\n",
              "      <th>status</th>\n",
              "    </tr>\n",
              "  </thead>\n",
              "  <tbody>\n",
              "    <tr>\n",
              "      <th>0</th>\n",
              "      <td>News</td>\n",
              "      <td>1750000</td>\n",
              "      <td>1</td>\n",
              "      <td>acquired</td>\n",
              "    </tr>\n",
              "    <tr>\n",
              "      <th>1</th>\n",
              "      <td>Games</td>\n",
              "      <td>4000000</td>\n",
              "      <td>2</td>\n",
              "      <td>operating</td>\n",
              "    </tr>\n",
              "    <tr>\n",
              "      <th>2</th>\n",
              "      <td>Publishing</td>\n",
              "      <td>40000</td>\n",
              "      <td>1</td>\n",
              "      <td>operating</td>\n",
              "    </tr>\n",
              "    <tr>\n",
              "      <th>3</th>\n",
              "      <td>Electronics</td>\n",
              "      <td>1500000</td>\n",
              "      <td>1</td>\n",
              "      <td>operating</td>\n",
              "    </tr>\n",
              "    <tr>\n",
              "      <th>4</th>\n",
              "      <td>Tourism</td>\n",
              "      <td>60000</td>\n",
              "      <td>2</td>\n",
              "      <td>operating</td>\n",
              "    </tr>\n",
              "  </tbody>\n",
              "</table>\n",
              "</div>"
            ],
            "text/plain": [
              "        market  funding_total_usd  funding_rounds     status\n",
              "0         News            1750000               1   acquired\n",
              "1        Games            4000000               2  operating\n",
              "2   Publishing              40000               1  operating\n",
              "3  Electronics            1500000               1  operating\n",
              "4      Tourism              60000               2  operating"
            ]
          },
          "metadata": {
            "tags": []
          },
          "execution_count": 39
        }
      ]
    },
    {
      "cell_type": "code",
      "metadata": {
        "id": "2ISY1Wj6l0tA",
        "colab_type": "code",
        "outputId": "fbd6e294-0475-4415-84e8-dfdfcb7554a1",
        "colab": {
          "base_uri": "https://localhost:8080/",
          "height": 202
        }
      },
      "source": [
        "features.info()"
      ],
      "execution_count": 40,
      "outputs": [
        {
          "output_type": "stream",
          "text": [
            "<class 'pandas.core.frame.DataFrame'>\n",
            "RangeIndex: 49438 entries, 0 to 49437\n",
            "Data columns (total 4 columns):\n",
            " #   Column             Non-Null Count  Dtype \n",
            "---  ------             --------------  ----- \n",
            " 0   market             45470 non-null  string\n",
            " 1   funding_total_usd  49438 non-null  int64 \n",
            " 2   funding_rounds     49438 non-null  int64 \n",
            " 3   status             49438 non-null  object\n",
            "dtypes: int64(2), object(1), string(1)\n",
            "memory usage: 1.5+ MB\n"
          ],
          "name": "stdout"
        }
      ]
    },
    {
      "cell_type": "code",
      "metadata": {
        "id": "m0-_d1aSJINc",
        "colab_type": "code",
        "colab": {}
      },
      "source": [
        "features= features.drop(['status'], axis = 1)"
      ],
      "execution_count": 0,
      "outputs": []
    },
    {
      "cell_type": "code",
      "metadata": {
        "id": "v0w85wZOOhEM",
        "colab_type": "code",
        "outputId": "04ace4f3-4ef1-4487-b79f-4b7e3a5826ca",
        "colab": {
          "base_uri": "https://localhost:8080/",
          "height": 185
        }
      },
      "source": [
        "features.info()"
      ],
      "execution_count": 42,
      "outputs": [
        {
          "output_type": "stream",
          "text": [
            "<class 'pandas.core.frame.DataFrame'>\n",
            "RangeIndex: 49438 entries, 0 to 49437\n",
            "Data columns (total 3 columns):\n",
            " #   Column             Non-Null Count  Dtype \n",
            "---  ------             --------------  ----- \n",
            " 0   market             45470 non-null  string\n",
            " 1   funding_total_usd  49438 non-null  int64 \n",
            " 2   funding_rounds     49438 non-null  int64 \n",
            "dtypes: int64(2), string(1)\n",
            "memory usage: 1.1 MB\n"
          ],
          "name": "stdout"
        }
      ]
    },
    {
      "cell_type": "markdown",
      "metadata": {
        "id": "00K3uCFZG7Rm",
        "colab_type": "text"
      },
      "source": [
        "Feature engineering"
      ]
    },
    {
      "cell_type": "code",
      "metadata": {
        "id": "5CNHgUmPG2nU",
        "colab_type": "code",
        "colab": {}
      },
      "source": [
        "market=pd.get_dummies(features['market'],dummy_na=True)"
      ],
      "execution_count": 0,
      "outputs": []
    },
    {
      "cell_type": "code",
      "metadata": {
        "id": "Cei1UT1uG_iQ",
        "colab_type": "code",
        "outputId": "4410630d-d3c8-4087-d887-94c671543548",
        "colab": {
          "base_uri": "https://localhost:8080/",
          "height": 195
        }
      },
      "source": [
        "features.head()"
      ],
      "execution_count": 44,
      "outputs": [
        {
          "output_type": "execute_result",
          "data": {
            "text/html": [
              "<div>\n",
              "<style scoped>\n",
              "    .dataframe tbody tr th:only-of-type {\n",
              "        vertical-align: middle;\n",
              "    }\n",
              "\n",
              "    .dataframe tbody tr th {\n",
              "        vertical-align: top;\n",
              "    }\n",
              "\n",
              "    .dataframe thead th {\n",
              "        text-align: right;\n",
              "    }\n",
              "</style>\n",
              "<table border=\"1\" class=\"dataframe\">\n",
              "  <thead>\n",
              "    <tr style=\"text-align: right;\">\n",
              "      <th></th>\n",
              "      <th>market</th>\n",
              "      <th>funding_total_usd</th>\n",
              "      <th>funding_rounds</th>\n",
              "    </tr>\n",
              "  </thead>\n",
              "  <tbody>\n",
              "    <tr>\n",
              "      <th>0</th>\n",
              "      <td>News</td>\n",
              "      <td>1750000</td>\n",
              "      <td>1</td>\n",
              "    </tr>\n",
              "    <tr>\n",
              "      <th>1</th>\n",
              "      <td>Games</td>\n",
              "      <td>4000000</td>\n",
              "      <td>2</td>\n",
              "    </tr>\n",
              "    <tr>\n",
              "      <th>2</th>\n",
              "      <td>Publishing</td>\n",
              "      <td>40000</td>\n",
              "      <td>1</td>\n",
              "    </tr>\n",
              "    <tr>\n",
              "      <th>3</th>\n",
              "      <td>Electronics</td>\n",
              "      <td>1500000</td>\n",
              "      <td>1</td>\n",
              "    </tr>\n",
              "    <tr>\n",
              "      <th>4</th>\n",
              "      <td>Tourism</td>\n",
              "      <td>60000</td>\n",
              "      <td>2</td>\n",
              "    </tr>\n",
              "  </tbody>\n",
              "</table>\n",
              "</div>"
            ],
            "text/plain": [
              "        market  funding_total_usd  funding_rounds\n",
              "0         News            1750000               1\n",
              "1        Games            4000000               2\n",
              "2   Publishing              40000               1\n",
              "3  Electronics            1500000               1\n",
              "4      Tourism              60000               2"
            ]
          },
          "metadata": {
            "tags": []
          },
          "execution_count": 44
        }
      ]
    },
    {
      "cell_type": "code",
      "metadata": {
        "id": "SfsJXozFwI6s",
        "colab_type": "code",
        "colab": {}
      },
      "source": [
        "result = pd.concat([features, market], axis=1, sort=False)"
      ],
      "execution_count": 0,
      "outputs": []
    },
    {
      "cell_type": "code",
      "metadata": {
        "id": "lx9nbFyDwYfI",
        "colab_type": "code",
        "colab": {}
      },
      "source": [
        "features= result.drop(['market'], axis = 1) #drop  the y values of the model"
      ],
      "execution_count": 0,
      "outputs": []
    },
    {
      "cell_type": "code",
      "metadata": {
        "id": "tECLisoo0vui",
        "colab_type": "code",
        "colab": {}
      },
      "source": [
        "features=features.fillna(0)"
      ],
      "execution_count": 0,
      "outputs": []
    },
    {
      "cell_type": "markdown",
      "metadata": {
        "id": "3UfiakTHuCtu",
        "colab_type": "text"
      },
      "source": [
        "Checking the data is cleaning  🧹"
      ]
    },
    {
      "cell_type": "code",
      "metadata": {
        "id": "_envrZt-hnNC",
        "colab_type": "code",
        "outputId": "49596802-0ae2-4d8d-ec35-d15c566799fc",
        "colab": {
          "base_uri": "https://localhost:8080/",
          "height": 81
        }
      },
      "source": [
        "missing_values_table(features)"
      ],
      "execution_count": 48,
      "outputs": [
        {
          "output_type": "stream",
          "text": [
            "Your selected dataframe has 756 columns.\n",
            "There are 0 columns that have missing values.\n"
          ],
          "name": "stdout"
        },
        {
          "output_type": "execute_result",
          "data": {
            "text/html": [
              "<div>\n",
              "<style scoped>\n",
              "    .dataframe tbody tr th:only-of-type {\n",
              "        vertical-align: middle;\n",
              "    }\n",
              "\n",
              "    .dataframe tbody tr th {\n",
              "        vertical-align: top;\n",
              "    }\n",
              "\n",
              "    .dataframe thead th {\n",
              "        text-align: right;\n",
              "    }\n",
              "</style>\n",
              "<table border=\"1\" class=\"dataframe\">\n",
              "  <thead>\n",
              "    <tr style=\"text-align: right;\">\n",
              "      <th></th>\n",
              "      <th>Missing Values</th>\n",
              "      <th>% of Total Values</th>\n",
              "    </tr>\n",
              "  </thead>\n",
              "  <tbody>\n",
              "  </tbody>\n",
              "</table>\n",
              "</div>"
            ],
            "text/plain": [
              "Empty DataFrame\n",
              "Columns: [Missing Values, % of Total Values]\n",
              "Index: []"
            ]
          },
          "metadata": {
            "tags": []
          },
          "execution_count": 48
        }
      ]
    },
    {
      "cell_type": "code",
      "metadata": {
        "id": "JI85mWRkt5su",
        "colab_type": "code",
        "outputId": "28d94141-aa34-49a8-b569-d434bf7dc9f9",
        "colab": {
          "base_uri": "https://localhost:8080/",
          "height": 1000
        }
      },
      "source": [
        "print('Train columns with null values: \\n', features.isnull().sum())\n",
        "print(\"-\"*10)\n",
        "print (features.info())\n",
        "print(\"-\"*10)\n",
        "\n",
        "print('Test/Validation columns with null values: \\n', features.isnull().sum())\n",
        "print(\"-\"*10)\n",
        "print (features.info())\n",
        "print(\"-\"*10)\n",
        "\n",
        "features.describe(include = 'all')"
      ],
      "execution_count": 49,
      "outputs": [
        {
          "output_type": "stream",
          "text": [
            "Train columns with null values: \n",
            " funding_total_usd    0\n",
            "funding_rounds       0\n",
            "3D                   0\n",
            "3D Printing          0\n",
            "3D Technology        0\n",
            "                    ..\n",
            "iPad                 0\n",
            "iPhone               0\n",
            "iPod Touch           0\n",
            "mHealth              0\n",
            "NaN                  0\n",
            "Length: 756, dtype: int64\n",
            "----------\n",
            "<class 'pandas.core.frame.DataFrame'>\n",
            "RangeIndex: 49438 entries, 0 to 49437\n",
            "Columns: 756 entries, funding_total_usd to nan\n",
            "dtypes: int64(2), uint8(754)\n",
            "memory usage: 36.3 MB\n",
            "None\n",
            "----------\n",
            "Test/Validation columns with null values: \n",
            " funding_total_usd    0\n",
            "funding_rounds       0\n",
            "3D                   0\n",
            "3D Printing          0\n",
            "3D Technology        0\n",
            "                    ..\n",
            "iPad                 0\n",
            "iPhone               0\n",
            "iPod Touch           0\n",
            "mHealth              0\n",
            "NaN                  0\n",
            "Length: 756, dtype: int64\n",
            "----------\n",
            "<class 'pandas.core.frame.DataFrame'>\n",
            "RangeIndex: 49438 entries, 0 to 49437\n",
            "Columns: 756 entries, funding_total_usd to nan\n",
            "dtypes: int64(2), uint8(754)\n",
            "memory usage: 36.3 MB\n",
            "None\n",
            "----------\n"
          ],
          "name": "stdout"
        },
        {
          "output_type": "execute_result",
          "data": {
            "text/html": [
              "<div>\n",
              "<style scoped>\n",
              "    .dataframe tbody tr th:only-of-type {\n",
              "        vertical-align: middle;\n",
              "    }\n",
              "\n",
              "    .dataframe tbody tr th {\n",
              "        vertical-align: top;\n",
              "    }\n",
              "\n",
              "    .dataframe thead th {\n",
              "        text-align: right;\n",
              "    }\n",
              "</style>\n",
              "<table border=\"1\" class=\"dataframe\">\n",
              "  <thead>\n",
              "    <tr style=\"text-align: right;\">\n",
              "      <th></th>\n",
              "      <th>funding_total_usd</th>\n",
              "      <th>funding_rounds</th>\n",
              "      <th>3D</th>\n",
              "      <th>3D Printing</th>\n",
              "      <th>3D Technology</th>\n",
              "      <th>Accounting</th>\n",
              "      <th>Ad Targeting</th>\n",
              "      <th>Advanced Materials</th>\n",
              "      <th>Adventure Travel</th>\n",
              "      <th>Advertising</th>\n",
              "      <th>Advertising Exchanges</th>\n",
              "      <th>Advertising Networks</th>\n",
              "      <th>Advertising Platforms</th>\n",
              "      <th>Advice</th>\n",
              "      <th>Aerospace</th>\n",
              "      <th>Agriculture</th>\n",
              "      <th>Algorithms</th>\n",
              "      <th>All Markets</th>\n",
              "      <th>All Students</th>\n",
              "      <th>Alternative Medicine</th>\n",
              "      <th>Alumni</th>\n",
              "      <th>Analytics</th>\n",
              "      <th>Android</th>\n",
              "      <th>Angels</th>\n",
              "      <th>Animal Feed</th>\n",
              "      <th>App Discovery</th>\n",
              "      <th>App Marketing</th>\n",
              "      <th>App Stores</th>\n",
              "      <th>Application Performance Monitoring</th>\n",
              "      <th>Application Platforms</th>\n",
              "      <th>Apps</th>\n",
              "      <th>Architecture</th>\n",
              "      <th>Archiving</th>\n",
              "      <th>Art</th>\n",
              "      <th>Artificial Intelligence</th>\n",
              "      <th>Artists Globally</th>\n",
              "      <th>Assisitive Technology</th>\n",
              "      <th>Auctions</th>\n",
              "      <th>Audio</th>\n",
              "      <th>Augmented Reality</th>\n",
              "      <th>...</th>\n",
              "      <th>Video Games</th>\n",
              "      <th>Video Processing</th>\n",
              "      <th>Video Streaming</th>\n",
              "      <th>Video on Demand</th>\n",
              "      <th>Virtual Currency</th>\n",
              "      <th>Virtual Goods</th>\n",
              "      <th>Virtual Workforces</th>\n",
              "      <th>Virtual Worlds</th>\n",
              "      <th>Virtualization</th>\n",
              "      <th>Visual Search</th>\n",
              "      <th>Visualization</th>\n",
              "      <th>VoIP</th>\n",
              "      <th>Water</th>\n",
              "      <th>Water Purification</th>\n",
              "      <th>Wealth Management</th>\n",
              "      <th>Web Browsers</th>\n",
              "      <th>Web CMS</th>\n",
              "      <th>Web Design</th>\n",
              "      <th>Web Development</th>\n",
              "      <th>Web Hosting</th>\n",
              "      <th>Web Presence Management</th>\n",
              "      <th>Web Tools</th>\n",
              "      <th>WebOS</th>\n",
              "      <th>Weddings</th>\n",
              "      <th>Weird Hardware</th>\n",
              "      <th>Wholesale</th>\n",
              "      <th>Wind</th>\n",
              "      <th>Windows Phone 7</th>\n",
              "      <th>Wine And Spirits</th>\n",
              "      <th>Wireless</th>\n",
              "      <th>Women</th>\n",
              "      <th>World Domination</th>\n",
              "      <th>Writers</th>\n",
              "      <th>Young Adults</th>\n",
              "      <th>iOS</th>\n",
              "      <th>iPad</th>\n",
              "      <th>iPhone</th>\n",
              "      <th>iPod Touch</th>\n",
              "      <th>mHealth</th>\n",
              "      <th>NaN</th>\n",
              "    </tr>\n",
              "  </thead>\n",
              "  <tbody>\n",
              "    <tr>\n",
              "      <th>count</th>\n",
              "      <td>4.943800e+04</td>\n",
              "      <td>49438.000000</td>\n",
              "      <td>49438.000000</td>\n",
              "      <td>49438.000000</td>\n",
              "      <td>49438.000000</td>\n",
              "      <td>49438.000000</td>\n",
              "      <td>49438.000000</td>\n",
              "      <td>49438.00000</td>\n",
              "      <td>49438.000000</td>\n",
              "      <td>49438.000000</td>\n",
              "      <td>49438.00000</td>\n",
              "      <td>49438.000000</td>\n",
              "      <td>49438.000000</td>\n",
              "      <td>49438.000000</td>\n",
              "      <td>49438.000000</td>\n",
              "      <td>49438.000000</td>\n",
              "      <td>49438.000000</td>\n",
              "      <td>49438.000000</td>\n",
              "      <td>49438.000000</td>\n",
              "      <td>49438.00000</td>\n",
              "      <td>49438.000000</td>\n",
              "      <td>49438.000000</td>\n",
              "      <td>49438.000000</td>\n",
              "      <td>49438.00000</td>\n",
              "      <td>49438.00000</td>\n",
              "      <td>49438.000000</td>\n",
              "      <td>49438.000000</td>\n",
              "      <td>49438.000000</td>\n",
              "      <td>49438.000000</td>\n",
              "      <td>49438.000000</td>\n",
              "      <td>49438.000000</td>\n",
              "      <td>49438.000000</td>\n",
              "      <td>49438.000000</td>\n",
              "      <td>49438.000000</td>\n",
              "      <td>49438.000000</td>\n",
              "      <td>49438.000000</td>\n",
              "      <td>49438.00000</td>\n",
              "      <td>49438.000000</td>\n",
              "      <td>49438.000000</td>\n",
              "      <td>49438.000000</td>\n",
              "      <td>...</td>\n",
              "      <td>49438.000000</td>\n",
              "      <td>49438.00000</td>\n",
              "      <td>49438.000000</td>\n",
              "      <td>49438.000000</td>\n",
              "      <td>49438.000000</td>\n",
              "      <td>49438.000000</td>\n",
              "      <td>49438.000000</td>\n",
              "      <td>49438.000000</td>\n",
              "      <td>49438.000000</td>\n",
              "      <td>49438.000000</td>\n",
              "      <td>49438.000000</td>\n",
              "      <td>49438.000000</td>\n",
              "      <td>49438.000000</td>\n",
              "      <td>49438.000000</td>\n",
              "      <td>49438.000000</td>\n",
              "      <td>49438.000000</td>\n",
              "      <td>49438.000000</td>\n",
              "      <td>49438.000000</td>\n",
              "      <td>49438.000000</td>\n",
              "      <td>49438.000000</td>\n",
              "      <td>49438.000000</td>\n",
              "      <td>49438.00000</td>\n",
              "      <td>49438.000000</td>\n",
              "      <td>49438.000000</td>\n",
              "      <td>49438.000000</td>\n",
              "      <td>49438.000000</td>\n",
              "      <td>49438.000000</td>\n",
              "      <td>49438.000000</td>\n",
              "      <td>49438.000000</td>\n",
              "      <td>49438.000000</td>\n",
              "      <td>49438.000000</td>\n",
              "      <td>49438.000000</td>\n",
              "      <td>49438.000000</td>\n",
              "      <td>49438.00000</td>\n",
              "      <td>49438.000000</td>\n",
              "      <td>49438.000000</td>\n",
              "      <td>49438.000000</td>\n",
              "      <td>49438.000000</td>\n",
              "      <td>49438.000000</td>\n",
              "      <td>49438.000000</td>\n",
              "    </tr>\n",
              "    <tr>\n",
              "      <th>mean</th>\n",
              "      <td>1.318989e+07</td>\n",
              "      <td>1.696205</td>\n",
              "      <td>0.000506</td>\n",
              "      <td>0.000182</td>\n",
              "      <td>0.000162</td>\n",
              "      <td>0.000364</td>\n",
              "      <td>0.000263</td>\n",
              "      <td>0.00004</td>\n",
              "      <td>0.000121</td>\n",
              "      <td>0.021522</td>\n",
              "      <td>0.00004</td>\n",
              "      <td>0.000081</td>\n",
              "      <td>0.000587</td>\n",
              "      <td>0.000263</td>\n",
              "      <td>0.000405</td>\n",
              "      <td>0.000546</td>\n",
              "      <td>0.000101</td>\n",
              "      <td>0.000142</td>\n",
              "      <td>0.000344</td>\n",
              "      <td>0.00004</td>\n",
              "      <td>0.000020</td>\n",
              "      <td>0.012480</td>\n",
              "      <td>0.001841</td>\n",
              "      <td>0.00004</td>\n",
              "      <td>0.00004</td>\n",
              "      <td>0.000020</td>\n",
              "      <td>0.000546</td>\n",
              "      <td>0.000162</td>\n",
              "      <td>0.000101</td>\n",
              "      <td>0.000405</td>\n",
              "      <td>0.005097</td>\n",
              "      <td>0.000162</td>\n",
              "      <td>0.000061</td>\n",
              "      <td>0.000566</td>\n",
              "      <td>0.000485</td>\n",
              "      <td>0.000121</td>\n",
              "      <td>0.00004</td>\n",
              "      <td>0.000526</td>\n",
              "      <td>0.000405</td>\n",
              "      <td>0.000243</td>\n",
              "      <td>...</td>\n",
              "      <td>0.000566</td>\n",
              "      <td>0.00004</td>\n",
              "      <td>0.001274</td>\n",
              "      <td>0.000243</td>\n",
              "      <td>0.000142</td>\n",
              "      <td>0.000061</td>\n",
              "      <td>0.000081</td>\n",
              "      <td>0.000384</td>\n",
              "      <td>0.000546</td>\n",
              "      <td>0.000162</td>\n",
              "      <td>0.000182</td>\n",
              "      <td>0.000607</td>\n",
              "      <td>0.000142</td>\n",
              "      <td>0.000142</td>\n",
              "      <td>0.000101</td>\n",
              "      <td>0.000162</td>\n",
              "      <td>0.000283</td>\n",
              "      <td>0.000485</td>\n",
              "      <td>0.002083</td>\n",
              "      <td>0.009021</td>\n",
              "      <td>0.000020</td>\n",
              "      <td>0.00089</td>\n",
              "      <td>0.000061</td>\n",
              "      <td>0.000384</td>\n",
              "      <td>0.000020</td>\n",
              "      <td>0.000202</td>\n",
              "      <td>0.000020</td>\n",
              "      <td>0.000081</td>\n",
              "      <td>0.000384</td>\n",
              "      <td>0.001537</td>\n",
              "      <td>0.000243</td>\n",
              "      <td>0.000121</td>\n",
              "      <td>0.000020</td>\n",
              "      <td>0.00004</td>\n",
              "      <td>0.000971</td>\n",
              "      <td>0.000587</td>\n",
              "      <td>0.001396</td>\n",
              "      <td>0.000061</td>\n",
              "      <td>0.000162</td>\n",
              "      <td>0.080262</td>\n",
              "    </tr>\n",
              "    <tr>\n",
              "      <th>std</th>\n",
              "      <td>1.535801e+08</td>\n",
              "      <td>1.294213</td>\n",
              "      <td>0.022482</td>\n",
              "      <td>0.013491</td>\n",
              "      <td>0.012720</td>\n",
              "      <td>0.019078</td>\n",
              "      <td>0.016214</td>\n",
              "      <td>0.00636</td>\n",
              "      <td>0.011016</td>\n",
              "      <td>0.145118</td>\n",
              "      <td>0.00636</td>\n",
              "      <td>0.008995</td>\n",
              "      <td>0.024213</td>\n",
              "      <td>0.016214</td>\n",
              "      <td>0.020109</td>\n",
              "      <td>0.023363</td>\n",
              "      <td>0.010056</td>\n",
              "      <td>0.011899</td>\n",
              "      <td>0.018541</td>\n",
              "      <td>0.00636</td>\n",
              "      <td>0.004497</td>\n",
              "      <td>0.111017</td>\n",
              "      <td>0.042864</td>\n",
              "      <td>0.00636</td>\n",
              "      <td>0.00636</td>\n",
              "      <td>0.004497</td>\n",
              "      <td>0.023363</td>\n",
              "      <td>0.012720</td>\n",
              "      <td>0.010056</td>\n",
              "      <td>0.020109</td>\n",
              "      <td>0.071214</td>\n",
              "      <td>0.012720</td>\n",
              "      <td>0.007790</td>\n",
              "      <td>0.023792</td>\n",
              "      <td>0.022028</td>\n",
              "      <td>0.011016</td>\n",
              "      <td>0.00636</td>\n",
              "      <td>0.022927</td>\n",
              "      <td>0.020109</td>\n",
              "      <td>0.015578</td>\n",
              "      <td>...</td>\n",
              "      <td>0.023792</td>\n",
              "      <td>0.00636</td>\n",
              "      <td>0.035675</td>\n",
              "      <td>0.015578</td>\n",
              "      <td>0.011899</td>\n",
              "      <td>0.007790</td>\n",
              "      <td>0.008995</td>\n",
              "      <td>0.019601</td>\n",
              "      <td>0.023363</td>\n",
              "      <td>0.012720</td>\n",
              "      <td>0.013491</td>\n",
              "      <td>0.024627</td>\n",
              "      <td>0.011899</td>\n",
              "      <td>0.011899</td>\n",
              "      <td>0.010056</td>\n",
              "      <td>0.012720</td>\n",
              "      <td>0.016826</td>\n",
              "      <td>0.022028</td>\n",
              "      <td>0.045597</td>\n",
              "      <td>0.094553</td>\n",
              "      <td>0.004497</td>\n",
              "      <td>0.02982</td>\n",
              "      <td>0.007790</td>\n",
              "      <td>0.019601</td>\n",
              "      <td>0.004497</td>\n",
              "      <td>0.014221</td>\n",
              "      <td>0.004497</td>\n",
              "      <td>0.008995</td>\n",
              "      <td>0.019601</td>\n",
              "      <td>0.039178</td>\n",
              "      <td>0.015578</td>\n",
              "      <td>0.011016</td>\n",
              "      <td>0.004497</td>\n",
              "      <td>0.00636</td>\n",
              "      <td>0.031145</td>\n",
              "      <td>0.024213</td>\n",
              "      <td>0.037333</td>\n",
              "      <td>0.007790</td>\n",
              "      <td>0.012720</td>\n",
              "      <td>0.271701</td>\n",
              "    </tr>\n",
              "    <tr>\n",
              "      <th>min</th>\n",
              "      <td>0.000000e+00</td>\n",
              "      <td>1.000000</td>\n",
              "      <td>0.000000</td>\n",
              "      <td>0.000000</td>\n",
              "      <td>0.000000</td>\n",
              "      <td>0.000000</td>\n",
              "      <td>0.000000</td>\n",
              "      <td>0.00000</td>\n",
              "      <td>0.000000</td>\n",
              "      <td>0.000000</td>\n",
              "      <td>0.00000</td>\n",
              "      <td>0.000000</td>\n",
              "      <td>0.000000</td>\n",
              "      <td>0.000000</td>\n",
              "      <td>0.000000</td>\n",
              "      <td>0.000000</td>\n",
              "      <td>0.000000</td>\n",
              "      <td>0.000000</td>\n",
              "      <td>0.000000</td>\n",
              "      <td>0.00000</td>\n",
              "      <td>0.000000</td>\n",
              "      <td>0.000000</td>\n",
              "      <td>0.000000</td>\n",
              "      <td>0.00000</td>\n",
              "      <td>0.00000</td>\n",
              "      <td>0.000000</td>\n",
              "      <td>0.000000</td>\n",
              "      <td>0.000000</td>\n",
              "      <td>0.000000</td>\n",
              "      <td>0.000000</td>\n",
              "      <td>0.000000</td>\n",
              "      <td>0.000000</td>\n",
              "      <td>0.000000</td>\n",
              "      <td>0.000000</td>\n",
              "      <td>0.000000</td>\n",
              "      <td>0.000000</td>\n",
              "      <td>0.00000</td>\n",
              "      <td>0.000000</td>\n",
              "      <td>0.000000</td>\n",
              "      <td>0.000000</td>\n",
              "      <td>...</td>\n",
              "      <td>0.000000</td>\n",
              "      <td>0.00000</td>\n",
              "      <td>0.000000</td>\n",
              "      <td>0.000000</td>\n",
              "      <td>0.000000</td>\n",
              "      <td>0.000000</td>\n",
              "      <td>0.000000</td>\n",
              "      <td>0.000000</td>\n",
              "      <td>0.000000</td>\n",
              "      <td>0.000000</td>\n",
              "      <td>0.000000</td>\n",
              "      <td>0.000000</td>\n",
              "      <td>0.000000</td>\n",
              "      <td>0.000000</td>\n",
              "      <td>0.000000</td>\n",
              "      <td>0.000000</td>\n",
              "      <td>0.000000</td>\n",
              "      <td>0.000000</td>\n",
              "      <td>0.000000</td>\n",
              "      <td>0.000000</td>\n",
              "      <td>0.000000</td>\n",
              "      <td>0.00000</td>\n",
              "      <td>0.000000</td>\n",
              "      <td>0.000000</td>\n",
              "      <td>0.000000</td>\n",
              "      <td>0.000000</td>\n",
              "      <td>0.000000</td>\n",
              "      <td>0.000000</td>\n",
              "      <td>0.000000</td>\n",
              "      <td>0.000000</td>\n",
              "      <td>0.000000</td>\n",
              "      <td>0.000000</td>\n",
              "      <td>0.000000</td>\n",
              "      <td>0.00000</td>\n",
              "      <td>0.000000</td>\n",
              "      <td>0.000000</td>\n",
              "      <td>0.000000</td>\n",
              "      <td>0.000000</td>\n",
              "      <td>0.000000</td>\n",
              "      <td>0.000000</td>\n",
              "    </tr>\n",
              "    <tr>\n",
              "      <th>25%</th>\n",
              "      <td>5.000000e+04</td>\n",
              "      <td>1.000000</td>\n",
              "      <td>0.000000</td>\n",
              "      <td>0.000000</td>\n",
              "      <td>0.000000</td>\n",
              "      <td>0.000000</td>\n",
              "      <td>0.000000</td>\n",
              "      <td>0.00000</td>\n",
              "      <td>0.000000</td>\n",
              "      <td>0.000000</td>\n",
              "      <td>0.00000</td>\n",
              "      <td>0.000000</td>\n",
              "      <td>0.000000</td>\n",
              "      <td>0.000000</td>\n",
              "      <td>0.000000</td>\n",
              "      <td>0.000000</td>\n",
              "      <td>0.000000</td>\n",
              "      <td>0.000000</td>\n",
              "      <td>0.000000</td>\n",
              "      <td>0.00000</td>\n",
              "      <td>0.000000</td>\n",
              "      <td>0.000000</td>\n",
              "      <td>0.000000</td>\n",
              "      <td>0.00000</td>\n",
              "      <td>0.00000</td>\n",
              "      <td>0.000000</td>\n",
              "      <td>0.000000</td>\n",
              "      <td>0.000000</td>\n",
              "      <td>0.000000</td>\n",
              "      <td>0.000000</td>\n",
              "      <td>0.000000</td>\n",
              "      <td>0.000000</td>\n",
              "      <td>0.000000</td>\n",
              "      <td>0.000000</td>\n",
              "      <td>0.000000</td>\n",
              "      <td>0.000000</td>\n",
              "      <td>0.00000</td>\n",
              "      <td>0.000000</td>\n",
              "      <td>0.000000</td>\n",
              "      <td>0.000000</td>\n",
              "      <td>...</td>\n",
              "      <td>0.000000</td>\n",
              "      <td>0.00000</td>\n",
              "      <td>0.000000</td>\n",
              "      <td>0.000000</td>\n",
              "      <td>0.000000</td>\n",
              "      <td>0.000000</td>\n",
              "      <td>0.000000</td>\n",
              "      <td>0.000000</td>\n",
              "      <td>0.000000</td>\n",
              "      <td>0.000000</td>\n",
              "      <td>0.000000</td>\n",
              "      <td>0.000000</td>\n",
              "      <td>0.000000</td>\n",
              "      <td>0.000000</td>\n",
              "      <td>0.000000</td>\n",
              "      <td>0.000000</td>\n",
              "      <td>0.000000</td>\n",
              "      <td>0.000000</td>\n",
              "      <td>0.000000</td>\n",
              "      <td>0.000000</td>\n",
              "      <td>0.000000</td>\n",
              "      <td>0.00000</td>\n",
              "      <td>0.000000</td>\n",
              "      <td>0.000000</td>\n",
              "      <td>0.000000</td>\n",
              "      <td>0.000000</td>\n",
              "      <td>0.000000</td>\n",
              "      <td>0.000000</td>\n",
              "      <td>0.000000</td>\n",
              "      <td>0.000000</td>\n",
              "      <td>0.000000</td>\n",
              "      <td>0.000000</td>\n",
              "      <td>0.000000</td>\n",
              "      <td>0.00000</td>\n",
              "      <td>0.000000</td>\n",
              "      <td>0.000000</td>\n",
              "      <td>0.000000</td>\n",
              "      <td>0.000000</td>\n",
              "      <td>0.000000</td>\n",
              "      <td>0.000000</td>\n",
              "    </tr>\n",
              "    <tr>\n",
              "      <th>50%</th>\n",
              "      <td>1.000000e+06</td>\n",
              "      <td>1.000000</td>\n",
              "      <td>0.000000</td>\n",
              "      <td>0.000000</td>\n",
              "      <td>0.000000</td>\n",
              "      <td>0.000000</td>\n",
              "      <td>0.000000</td>\n",
              "      <td>0.00000</td>\n",
              "      <td>0.000000</td>\n",
              "      <td>0.000000</td>\n",
              "      <td>0.00000</td>\n",
              "      <td>0.000000</td>\n",
              "      <td>0.000000</td>\n",
              "      <td>0.000000</td>\n",
              "      <td>0.000000</td>\n",
              "      <td>0.000000</td>\n",
              "      <td>0.000000</td>\n",
              "      <td>0.000000</td>\n",
              "      <td>0.000000</td>\n",
              "      <td>0.00000</td>\n",
              "      <td>0.000000</td>\n",
              "      <td>0.000000</td>\n",
              "      <td>0.000000</td>\n",
              "      <td>0.00000</td>\n",
              "      <td>0.00000</td>\n",
              "      <td>0.000000</td>\n",
              "      <td>0.000000</td>\n",
              "      <td>0.000000</td>\n",
              "      <td>0.000000</td>\n",
              "      <td>0.000000</td>\n",
              "      <td>0.000000</td>\n",
              "      <td>0.000000</td>\n",
              "      <td>0.000000</td>\n",
              "      <td>0.000000</td>\n",
              "      <td>0.000000</td>\n",
              "      <td>0.000000</td>\n",
              "      <td>0.00000</td>\n",
              "      <td>0.000000</td>\n",
              "      <td>0.000000</td>\n",
              "      <td>0.000000</td>\n",
              "      <td>...</td>\n",
              "      <td>0.000000</td>\n",
              "      <td>0.00000</td>\n",
              "      <td>0.000000</td>\n",
              "      <td>0.000000</td>\n",
              "      <td>0.000000</td>\n",
              "      <td>0.000000</td>\n",
              "      <td>0.000000</td>\n",
              "      <td>0.000000</td>\n",
              "      <td>0.000000</td>\n",
              "      <td>0.000000</td>\n",
              "      <td>0.000000</td>\n",
              "      <td>0.000000</td>\n",
              "      <td>0.000000</td>\n",
              "      <td>0.000000</td>\n",
              "      <td>0.000000</td>\n",
              "      <td>0.000000</td>\n",
              "      <td>0.000000</td>\n",
              "      <td>0.000000</td>\n",
              "      <td>0.000000</td>\n",
              "      <td>0.000000</td>\n",
              "      <td>0.000000</td>\n",
              "      <td>0.00000</td>\n",
              "      <td>0.000000</td>\n",
              "      <td>0.000000</td>\n",
              "      <td>0.000000</td>\n",
              "      <td>0.000000</td>\n",
              "      <td>0.000000</td>\n",
              "      <td>0.000000</td>\n",
              "      <td>0.000000</td>\n",
              "      <td>0.000000</td>\n",
              "      <td>0.000000</td>\n",
              "      <td>0.000000</td>\n",
              "      <td>0.000000</td>\n",
              "      <td>0.00000</td>\n",
              "      <td>0.000000</td>\n",
              "      <td>0.000000</td>\n",
              "      <td>0.000000</td>\n",
              "      <td>0.000000</td>\n",
              "      <td>0.000000</td>\n",
              "      <td>0.000000</td>\n",
              "    </tr>\n",
              "    <tr>\n",
              "      <th>75%</th>\n",
              "      <td>6.800000e+06</td>\n",
              "      <td>2.000000</td>\n",
              "      <td>0.000000</td>\n",
              "      <td>0.000000</td>\n",
              "      <td>0.000000</td>\n",
              "      <td>0.000000</td>\n",
              "      <td>0.000000</td>\n",
              "      <td>0.00000</td>\n",
              "      <td>0.000000</td>\n",
              "      <td>0.000000</td>\n",
              "      <td>0.00000</td>\n",
              "      <td>0.000000</td>\n",
              "      <td>0.000000</td>\n",
              "      <td>0.000000</td>\n",
              "      <td>0.000000</td>\n",
              "      <td>0.000000</td>\n",
              "      <td>0.000000</td>\n",
              "      <td>0.000000</td>\n",
              "      <td>0.000000</td>\n",
              "      <td>0.00000</td>\n",
              "      <td>0.000000</td>\n",
              "      <td>0.000000</td>\n",
              "      <td>0.000000</td>\n",
              "      <td>0.00000</td>\n",
              "      <td>0.00000</td>\n",
              "      <td>0.000000</td>\n",
              "      <td>0.000000</td>\n",
              "      <td>0.000000</td>\n",
              "      <td>0.000000</td>\n",
              "      <td>0.000000</td>\n",
              "      <td>0.000000</td>\n",
              "      <td>0.000000</td>\n",
              "      <td>0.000000</td>\n",
              "      <td>0.000000</td>\n",
              "      <td>0.000000</td>\n",
              "      <td>0.000000</td>\n",
              "      <td>0.00000</td>\n",
              "      <td>0.000000</td>\n",
              "      <td>0.000000</td>\n",
              "      <td>0.000000</td>\n",
              "      <td>...</td>\n",
              "      <td>0.000000</td>\n",
              "      <td>0.00000</td>\n",
              "      <td>0.000000</td>\n",
              "      <td>0.000000</td>\n",
              "      <td>0.000000</td>\n",
              "      <td>0.000000</td>\n",
              "      <td>0.000000</td>\n",
              "      <td>0.000000</td>\n",
              "      <td>0.000000</td>\n",
              "      <td>0.000000</td>\n",
              "      <td>0.000000</td>\n",
              "      <td>0.000000</td>\n",
              "      <td>0.000000</td>\n",
              "      <td>0.000000</td>\n",
              "      <td>0.000000</td>\n",
              "      <td>0.000000</td>\n",
              "      <td>0.000000</td>\n",
              "      <td>0.000000</td>\n",
              "      <td>0.000000</td>\n",
              "      <td>0.000000</td>\n",
              "      <td>0.000000</td>\n",
              "      <td>0.00000</td>\n",
              "      <td>0.000000</td>\n",
              "      <td>0.000000</td>\n",
              "      <td>0.000000</td>\n",
              "      <td>0.000000</td>\n",
              "      <td>0.000000</td>\n",
              "      <td>0.000000</td>\n",
              "      <td>0.000000</td>\n",
              "      <td>0.000000</td>\n",
              "      <td>0.000000</td>\n",
              "      <td>0.000000</td>\n",
              "      <td>0.000000</td>\n",
              "      <td>0.00000</td>\n",
              "      <td>0.000000</td>\n",
              "      <td>0.000000</td>\n",
              "      <td>0.000000</td>\n",
              "      <td>0.000000</td>\n",
              "      <td>0.000000</td>\n",
              "      <td>0.000000</td>\n",
              "    </tr>\n",
              "    <tr>\n",
              "      <th>max</th>\n",
              "      <td>3.007950e+10</td>\n",
              "      <td>18.000000</td>\n",
              "      <td>1.000000</td>\n",
              "      <td>1.000000</td>\n",
              "      <td>1.000000</td>\n",
              "      <td>1.000000</td>\n",
              "      <td>1.000000</td>\n",
              "      <td>1.00000</td>\n",
              "      <td>1.000000</td>\n",
              "      <td>1.000000</td>\n",
              "      <td>1.00000</td>\n",
              "      <td>1.000000</td>\n",
              "      <td>1.000000</td>\n",
              "      <td>1.000000</td>\n",
              "      <td>1.000000</td>\n",
              "      <td>1.000000</td>\n",
              "      <td>1.000000</td>\n",
              "      <td>1.000000</td>\n",
              "      <td>1.000000</td>\n",
              "      <td>1.00000</td>\n",
              "      <td>1.000000</td>\n",
              "      <td>1.000000</td>\n",
              "      <td>1.000000</td>\n",
              "      <td>1.00000</td>\n",
              "      <td>1.00000</td>\n",
              "      <td>1.000000</td>\n",
              "      <td>1.000000</td>\n",
              "      <td>1.000000</td>\n",
              "      <td>1.000000</td>\n",
              "      <td>1.000000</td>\n",
              "      <td>1.000000</td>\n",
              "      <td>1.000000</td>\n",
              "      <td>1.000000</td>\n",
              "      <td>1.000000</td>\n",
              "      <td>1.000000</td>\n",
              "      <td>1.000000</td>\n",
              "      <td>1.00000</td>\n",
              "      <td>1.000000</td>\n",
              "      <td>1.000000</td>\n",
              "      <td>1.000000</td>\n",
              "      <td>...</td>\n",
              "      <td>1.000000</td>\n",
              "      <td>1.00000</td>\n",
              "      <td>1.000000</td>\n",
              "      <td>1.000000</td>\n",
              "      <td>1.000000</td>\n",
              "      <td>1.000000</td>\n",
              "      <td>1.000000</td>\n",
              "      <td>1.000000</td>\n",
              "      <td>1.000000</td>\n",
              "      <td>1.000000</td>\n",
              "      <td>1.000000</td>\n",
              "      <td>1.000000</td>\n",
              "      <td>1.000000</td>\n",
              "      <td>1.000000</td>\n",
              "      <td>1.000000</td>\n",
              "      <td>1.000000</td>\n",
              "      <td>1.000000</td>\n",
              "      <td>1.000000</td>\n",
              "      <td>1.000000</td>\n",
              "      <td>1.000000</td>\n",
              "      <td>1.000000</td>\n",
              "      <td>1.00000</td>\n",
              "      <td>1.000000</td>\n",
              "      <td>1.000000</td>\n",
              "      <td>1.000000</td>\n",
              "      <td>1.000000</td>\n",
              "      <td>1.000000</td>\n",
              "      <td>1.000000</td>\n",
              "      <td>1.000000</td>\n",
              "      <td>1.000000</td>\n",
              "      <td>1.000000</td>\n",
              "      <td>1.000000</td>\n",
              "      <td>1.000000</td>\n",
              "      <td>1.00000</td>\n",
              "      <td>1.000000</td>\n",
              "      <td>1.000000</td>\n",
              "      <td>1.000000</td>\n",
              "      <td>1.000000</td>\n",
              "      <td>1.000000</td>\n",
              "      <td>1.000000</td>\n",
              "    </tr>\n",
              "  </tbody>\n",
              "</table>\n",
              "<p>8 rows × 756 columns</p>\n",
              "</div>"
            ],
            "text/plain": [
              "       funding_total_usd  funding_rounds  ...       mHealth           NaN\n",
              "count       4.943800e+04    49438.000000  ...  49438.000000  49438.000000\n",
              "mean        1.318989e+07        1.696205  ...      0.000162      0.080262\n",
              "std         1.535801e+08        1.294213  ...      0.012720      0.271701\n",
              "min         0.000000e+00        1.000000  ...      0.000000      0.000000\n",
              "25%         5.000000e+04        1.000000  ...      0.000000      0.000000\n",
              "50%         1.000000e+06        1.000000  ...      0.000000      0.000000\n",
              "75%         6.800000e+06        2.000000  ...      0.000000      0.000000\n",
              "max         3.007950e+10       18.000000  ...      1.000000      1.000000\n",
              "\n",
              "[8 rows x 756 columns]"
            ]
          },
          "metadata": {
            "tags": []
          },
          "execution_count": 49
        }
      ]
    },
    {
      "cell_type": "code",
      "metadata": {
        "id": "Y_nPIbrCsfLw",
        "colab_type": "code",
        "colab": {}
      },
      "source": [
        "features['funding_total_usd']=pd.to_numeric(features.funding_total_usd, downcast ='signed')"
      ],
      "execution_count": 0,
      "outputs": []
    },
    {
      "cell_type": "code",
      "metadata": {
        "id": "pdKVZyBayeK0",
        "colab_type": "code",
        "colab": {}
      },
      "source": [
        "features['funding_rounds']=pd.to_numeric(features.funding_rounds, downcast ='signed')"
      ],
      "execution_count": 0,
      "outputs": []
    },
    {
      "cell_type": "markdown",
      "metadata": {
        "id": "VrayJnr7HqN7",
        "colab_type": "text"
      },
      "source": [
        "Split the data ( 80 trainning . 20% test )"
      ]
    },
    {
      "cell_type": "code",
      "metadata": {
        "id": "uTDuWmpaBuBQ",
        "colab_type": "code",
        "colab": {}
      },
      "source": [
        "category= (category.cat.codes.replace(-1, np.nan)\n",
        "               .interpolate().astype(int).astype('category')\n",
        "               .cat.rename_categories(category.cat.categories))"
      ],
      "execution_count": 0,
      "outputs": []
    },
    {
      "cell_type": "code",
      "metadata": {
        "id": "bPMtLxTRCrc-",
        "colab_type": "code",
        "colab": {}
      },
      "source": [
        "y = pd.factorize(category)[0]"
      ],
      "execution_count": 0,
      "outputs": []
    },
    {
      "cell_type": "code",
      "metadata": {
        "id": "N2vS4ORaXzW7",
        "colab_type": "code",
        "colab": {}
      },
      "source": [
        "X_train, X_test, y_train, y_test = train_test_split(features,y, test_size=0.8, random_state=42)"
      ],
      "execution_count": 0,
      "outputs": []
    },
    {
      "cell_type": "markdown",
      "metadata": {
        "id": "gui1yg61H0gD",
        "colab_type": "text"
      },
      "source": [
        "Random Forest Algorithm "
      ]
    },
    {
      "cell_type": "code",
      "metadata": {
        "id": "sJsUk3NPH5lu",
        "colab_type": "code",
        "colab": {}
      },
      "source": [
        "random_forest = RandomForestClassifier(criterion = \"gini\", \n",
        "                                       min_samples_leaf = 1, \n",
        "                                       min_samples_split = 10,   \n",
        "                                       n_estimators=100, \n",
        "                                       max_features='auto', \n",
        "                                       oob_score=True, \n",
        "                                       random_state=1, \n",
        "                                       n_jobs=-1)\n"
      ],
      "execution_count": 0,
      "outputs": []
    },
    {
      "cell_type": "code",
      "metadata": {
        "id": "c5DBbc5IfTLF",
        "colab_type": "code",
        "colab": {}
      },
      "source": [
        "model=random_forest.fit(X_train, y_train)"
      ],
      "execution_count": 0,
      "outputs": []
    },
    {
      "cell_type": "code",
      "metadata": {
        "id": "DpswX4tczk4b",
        "colab_type": "code",
        "colab": {
          "base_uri": "https://localhost:8080/",
          "height": 34
        },
        "outputId": "2d3371a9-d807-46fa-e565-60aec45b701e"
      },
      "source": [
        "Y_prediction = model.predict(X_test)\n",
        "model.score(X_train, y_train)\n",
        "acc_random_forest = round(model.score(X_train, y_train) * 100, 2)\n",
        "print(\"oob score:\", round(model.oob_score_, 4)*100, \"%\")\n"
      ],
      "execution_count": 57,
      "outputs": [
        {
          "output_type": "stream",
          "text": [
            "oob score: 84.65 %\n"
          ],
          "name": "stdout"
        }
      ]
    },
    {
      "cell_type": "markdown",
      "metadata": {
        "id": "7LKStPqqDtOf",
        "colab_type": "text"
      },
      "source": [
        "Cross Validation"
      ]
    },
    {
      "cell_type": "code",
      "metadata": {
        "id": "Icl3tImhDsDC",
        "colab_type": "code",
        "colab": {
          "base_uri": "https://localhost:8080/",
          "height": 67
        },
        "outputId": "e5c42ae9-a20e-46f6-e841-96457c68c23e"
      },
      "source": [
        "from sklearn.model_selection import cross_val_score\n",
        "scores1 = cross_val_score(model, X_train, y_train, cv=5, scoring = \"accuracy\")\n",
        "print(\"Scores:\", scores1)\n",
        "print(\"Mean:\", scores1.mean())\n",
        "print(\"Standard Deviation:\", scores1.std())"
      ],
      "execution_count": 104,
      "outputs": [
        {
          "output_type": "stream",
          "text": [
            "Scores: [0.84277048 0.84529828 0.84876075 0.8442084  0.85128983]\n",
            "Mean: 0.8464655469138777\n",
            "Standard Deviation: 0.0031193742905395554\n"
          ],
          "name": "stdout"
        }
      ]
    },
    {
      "cell_type": "code",
      "metadata": {
        "id": "G9fa-8hG4bOX",
        "colab_type": "code",
        "colab": {
          "base_uri": "https://localhost:8080/",
          "height": 67
        },
        "outputId": "4726948a-3f79-4f79-c417-620b1a20f9f3"
      },
      "source": [
        "from sklearn import metrics\n",
        "print('Mean Absolute Error:', metrics.mean_absolute_error(y_test, Y_prediction))\n",
        "print('Mean Squared Error:', metrics.mean_squared_error(y_test, Y_prediction))\n",
        "print('Root Mean Squared Error:', np.sqrt(metrics.mean_squared_error(y_test, Y_prediction)))\n"
      ],
      "execution_count": 106,
      "outputs": [
        {
          "output_type": "stream",
          "text": [
            "Mean Absolute Error: 0.1448509519354757\n",
            "Mean Squared Error: 0.1475816034992794\n",
            "Root Mean Squared Error: 0.3841635114105443\n"
          ],
          "name": "stdout"
        }
      ]
    },
    {
      "cell_type": "markdown",
      "metadata": {
        "id": "VbBtXzKID7eA",
        "colab_type": "text"
      },
      "source": [
        "Confusion Matrix"
      ]
    },
    {
      "cell_type": "code",
      "metadata": {
        "id": "vODDkQudD2pC",
        "colab_type": "code",
        "colab": {
          "base_uri": "https://localhost:8080/",
          "height": 67
        },
        "outputId": "686ed222-2965-4b5a-916d-b54877eb5993"
      },
      "source": [
        "from sklearn.model_selection import cross_val_predict\n",
        "from sklearn.metrics import confusion_matrix\n",
        "predictions = cross_val_predict(model, X_train, y_train, cv=3)\n",
        "confusion_matrix(y_train, predictions)"
      ],
      "execution_count": 62,
      "outputs": [
        {
          "output_type": "execute_result",
          "data": {
            "text/plain": [
              "array([[  19,  744,    9],\n",
              "       [  68, 8352,   70],\n",
              "       [   7,  599,   19]])"
            ]
          },
          "metadata": {
            "tags": []
          },
          "execution_count": 62
        }
      ]
    },
    {
      "cell_type": "markdown",
      "metadata": {
        "id": "avWm9DiTEJvA",
        "colab_type": "text"
      },
      "source": [
        "Importance variables from the random-forest model"
      ]
    },
    {
      "cell_type": "code",
      "metadata": {
        "id": "qjfrzwAzD-fW",
        "colab_type": "code",
        "colab": {
          "base_uri": "https://localhost:8080/",
          "height": 521
        },
        "outputId": "1a4f8343-8046-4fc1-c7fb-360c0878b7af"
      },
      "source": [
        "importances = pd.DataFrame({'feature':X_train.columns,'importance':np.round(random_forest.feature_importances_,3)})\n",
        "importances = importances.sort_values('importance',ascending=False).set_index('feature')\n",
        "importances.head(15)"
      ],
      "execution_count": 63,
      "outputs": [
        {
          "output_type": "execute_result",
          "data": {
            "text/html": [
              "<div>\n",
              "<style scoped>\n",
              "    .dataframe tbody tr th:only-of-type {\n",
              "        vertical-align: middle;\n",
              "    }\n",
              "\n",
              "    .dataframe tbody tr th {\n",
              "        vertical-align: top;\n",
              "    }\n",
              "\n",
              "    .dataframe thead th {\n",
              "        text-align: right;\n",
              "    }\n",
              "</style>\n",
              "<table border=\"1\" class=\"dataframe\">\n",
              "  <thead>\n",
              "    <tr style=\"text-align: right;\">\n",
              "      <th></th>\n",
              "      <th>importance</th>\n",
              "    </tr>\n",
              "    <tr>\n",
              "      <th>feature</th>\n",
              "      <th></th>\n",
              "    </tr>\n",
              "  </thead>\n",
              "  <tbody>\n",
              "    <tr>\n",
              "      <th>funding_total_usd</th>\n",
              "      <td>0.525</td>\n",
              "    </tr>\n",
              "    <tr>\n",
              "      <th>funding_rounds</th>\n",
              "      <td>0.054</td>\n",
              "    </tr>\n",
              "    <tr>\n",
              "      <th>Curated Web</th>\n",
              "      <td>0.022</td>\n",
              "    </tr>\n",
              "    <tr>\n",
              "      <th>Public Relations</th>\n",
              "      <td>0.008</td>\n",
              "    </tr>\n",
              "    <tr>\n",
              "      <th>Software</th>\n",
              "      <td>0.008</td>\n",
              "    </tr>\n",
              "    <tr>\n",
              "      <th>Web Hosting</th>\n",
              "      <td>0.007</td>\n",
              "    </tr>\n",
              "    <tr>\n",
              "      <th>Mobile</th>\n",
              "      <td>0.007</td>\n",
              "    </tr>\n",
              "    <tr>\n",
              "      <th>Games</th>\n",
              "      <td>0.006</td>\n",
              "    </tr>\n",
              "    <tr>\n",
              "      <th>Social Media</th>\n",
              "      <td>0.006</td>\n",
              "    </tr>\n",
              "    <tr>\n",
              "      <th>Security</th>\n",
              "      <td>0.006</td>\n",
              "    </tr>\n",
              "    <tr>\n",
              "      <th>Video</th>\n",
              "      <td>0.005</td>\n",
              "    </tr>\n",
              "    <tr>\n",
              "      <th>Enterprise Software</th>\n",
              "      <td>0.005</td>\n",
              "    </tr>\n",
              "    <tr>\n",
              "      <th>Messaging</th>\n",
              "      <td>0.005</td>\n",
              "    </tr>\n",
              "    <tr>\n",
              "      <th>E-Commerce</th>\n",
              "      <td>0.004</td>\n",
              "    </tr>\n",
              "    <tr>\n",
              "      <th>Finance</th>\n",
              "      <td>0.004</td>\n",
              "    </tr>\n",
              "  </tbody>\n",
              "</table>\n",
              "</div>"
            ],
            "text/plain": [
              "                     importance\n",
              "feature                        \n",
              "funding_total_usd         0.525\n",
              "funding_rounds            0.054\n",
              "Curated Web               0.022\n",
              "Public Relations          0.008\n",
              "Software                  0.008\n",
              "Web Hosting               0.007\n",
              "Mobile                    0.007\n",
              "Games                     0.006\n",
              "Social Media              0.006\n",
              "Security                  0.006\n",
              "Video                     0.005\n",
              "Enterprise Software       0.005\n",
              "Messaging                 0.005\n",
              "E-Commerce                0.004\n",
              "Finance                   0.004"
            ]
          },
          "metadata": {
            "tags": []
          },
          "execution_count": 63
        }
      ]
    },
    {
      "cell_type": "markdown",
      "metadata": {
        "id": "7svp0KVFGnE1",
        "colab_type": "text"
      },
      "source": [
        "XGBoost"
      ]
    },
    {
      "cell_type": "code",
      "metadata": {
        "id": "xJLKkBqIEZmt",
        "colab_type": "code",
        "colab": {
          "base_uri": "https://localhost:8080/",
          "height": 134
        },
        "outputId": "748389f7-24ee-4830-e675-40e354d8d32d"
      },
      "source": [
        "\n",
        "from xgboost import XGBClassifier\n",
        "model = XGBClassifier()\n",
        "from sklearn.metrics import accuracy_score\n",
        "model.fit(X_train, y_train)\n"
      ],
      "execution_count": 107,
      "outputs": [
        {
          "output_type": "execute_result",
          "data": {
            "text/plain": [
              "XGBClassifier(base_score=0.5, booster='gbtree', colsample_bylevel=1,\n",
              "              colsample_bynode=1, colsample_bytree=1, gamma=0,\n",
              "              learning_rate=0.1, max_delta_step=0, max_depth=3,\n",
              "              min_child_weight=1, missing=None, n_estimators=100, n_jobs=1,\n",
              "              nthread=None, objective='multi:softprob', random_state=0,\n",
              "              reg_alpha=0, reg_lambda=1, scale_pos_weight=1, seed=None,\n",
              "              silent=None, subsample=1, verbosity=1)"
            ]
          },
          "metadata": {
            "tags": []
          },
          "execution_count": 107
        }
      ]
    },
    {
      "cell_type": "code",
      "metadata": {
        "id": "sFqMHy6vJnxz",
        "colab_type": "code",
        "colab": {
          "base_uri": "https://localhost:8080/",
          "height": 34
        },
        "outputId": "40acd8a8-4f56-4d38-c5a4-c3f90b5f8d94"
      },
      "source": [
        "# make predictions for test data\n",
        "y_pred = model.predict(X_test)\n",
        "predictions = [round(value) for value in y_pred]\n",
        "# evaluate predictions\n",
        "accuracy_1 = accuracy_score(y_test, predictions)\n",
        "print(\"Accuracy: %.2f%%\" % (accuracy_1 * 100.0))"
      ],
      "execution_count": 108,
      "outputs": [
        {
          "output_type": "stream",
          "text": [
            "Accuracy: 86.78%\n"
          ],
          "name": "stdout"
        }
      ]
    },
    {
      "cell_type": "code",
      "metadata": {
        "id": "cjdM4loFrho8",
        "colab_type": "code",
        "colab": {}
      },
      "source": [
        "from sklearn.model_selection import KFold"
      ],
      "execution_count": 0,
      "outputs": []
    },
    {
      "cell_type": "code",
      "metadata": {
        "id": "sMBgWNSIphaP",
        "colab_type": "code",
        "colab": {}
      },
      "source": [
        "scores2 = cross_val_score(model, X_train, y_train, cv=5, scoring = \"accuracy\")"
      ],
      "execution_count": 0,
      "outputs": []
    },
    {
      "cell_type": "code",
      "metadata": {
        "id": "VEThacyXuxCI",
        "colab_type": "code",
        "colab": {
          "base_uri": "https://localhost:8080/",
          "height": 67
        },
        "outputId": "8b1846ad-5752-444b-b79c-e17efd5e3e02"
      },
      "source": [
        "print(\"Scores:\", scores2)\n",
        "print(\"Mean:\", scores2.mean())\n",
        "print(\"Standard Deviation:\", scores2.std())"
      ],
      "execution_count": 111,
      "outputs": [
        {
          "output_type": "stream",
          "text": [
            "Scores: [0.85844287 0.85743175 0.85887709 0.85887709 0.85887709]\n",
            "Mean: 0.8585011760626374\n",
            "Standard Deviation: 0.0005605352970207498\n"
          ],
          "name": "stdout"
        }
      ]
    },
    {
      "cell_type": "code",
      "metadata": {
        "id": "TtlbrLX95bkO",
        "colab_type": "code",
        "colab": {
          "base_uri": "https://localhost:8080/",
          "height": 67
        },
        "outputId": "92ecfedc-24e0-48f5-9287-636ba6138f5a"
      },
      "source": [
        "print('Mean Absolute Error:', metrics.mean_absolute_error(y_test, y_pred))\n",
        "print('Mean Squared Error:', metrics.mean_squared_error(y_test, y_pred))\n",
        "print('Root Mean Squared Error:', np.sqrt(metrics.mean_squared_error(y_test, y_pred)))\n"
      ],
      "execution_count": 112,
      "outputs": [
        {
          "output_type": "stream",
          "text": [
            "Mean Absolute Error: 0.1322343303582716\n",
            "Mean Squared Error: 0.13233546560137543\n",
            "Root Mean Squared Error: 0.36377941888096893\n"
          ],
          "name": "stdout"
        }
      ]
    },
    {
      "cell_type": "markdown",
      "metadata": {
        "id": "unSAoH1sTili",
        "colab_type": "text"
      },
      "source": [
        " Decision Tree"
      ]
    },
    {
      "cell_type": "code",
      "metadata": {
        "id": "oxfmXZ49Tlxh",
        "colab_type": "code",
        "colab": {
          "base_uri": "https://localhost:8080/",
          "height": 34
        },
        "outputId": "80d5f43f-a42c-4198-e0f8-b3298e31cbad"
      },
      "source": [
        "from sklearn import tree\n",
        "clf = tree.DecisionTreeClassifier(max_depth=2)\n",
        "clf = clf.fit(X_train, y_train)\n",
        "test_score = clf.score(X_test, y_test)\n",
        "print(\"Accuracy: %.2f%%\" % (test_score * 100.0))"
      ],
      "execution_count": 69,
      "outputs": [
        {
          "output_type": "stream",
          "text": [
            "Accuracy: 86.75%\n"
          ],
          "name": "stdout"
        }
      ]
    },
    {
      "cell_type": "code",
      "metadata": {
        "id": "EpmhaGQmqTX1",
        "colab_type": "code",
        "colab": {}
      },
      "source": [
        " scores3 = cross_val_score(estimator=clf, X=X_train, y=y_train, cv=5, scoring = \"accuracy\")"
      ],
      "execution_count": 0,
      "outputs": []
    },
    {
      "cell_type": "code",
      "metadata": {
        "id": "qM3zRLkYvLNv",
        "colab_type": "code",
        "colab": {
          "base_uri": "https://localhost:8080/",
          "height": 67
        },
        "outputId": "6005af0b-30a3-4aa5-a42d-8f8ff63cd0b4"
      },
      "source": [
        "print(\"Scores:\", scores3)\n",
        "print(\"Mean:\", scores3.mean())\n",
        "print(\"Standard Deviation:\", scores3.std())"
      ],
      "execution_count": 72,
      "outputs": [
        {
          "output_type": "stream",
          "text": [
            "Scores: [0.85844287 0.85844287 0.85887709 0.85887709 0.85887709]\n",
            "Mean: 0.8587034005317982\n",
            "Standard Deviation: 0.00021272099228313756\n"
          ],
          "name": "stdout"
        }
      ]
    },
    {
      "cell_type": "code",
      "metadata": {
        "id": "vLwHXAKH6Qfx",
        "colab_type": "code",
        "colab": {}
      },
      "source": [
        "y_predict=clf.predict(X_test)"
      ],
      "execution_count": 0,
      "outputs": []
    },
    {
      "cell_type": "code",
      "metadata": {
        "id": "V7PysqlV6uhF",
        "colab_type": "code",
        "colab": {
          "base_uri": "https://localhost:8080/",
          "height": 67
        },
        "outputId": "68d3d059-200d-4cb1-b925-f54b15f39acd"
      },
      "source": [
        "print('Mean Absolute Error:', metrics.mean_absolute_error(y_test, y_predict))\n",
        "print('Mean Squared Error:', metrics.mean_squared_error(y_test, y_predict))\n",
        "print('Root Mean Squared Error:', np.sqrt(metrics.mean_squared_error(y_test, y_predict)))\n"
      ],
      "execution_count": 116,
      "outputs": [
        {
          "output_type": "stream",
          "text": [
            "Mean Absolute Error: 0.13284114181689463\n",
            "Mean Squared Error: 0.13359965614017344\n",
            "Root Mean Squared Error: 0.36551286727032395\n"
          ],
          "name": "stdout"
        }
      ]
    },
    {
      "cell_type": "markdown",
      "metadata": {
        "id": "ZcHsWijkHRkm",
        "colab_type": "text"
      },
      "source": [
        "Deep Learning\n",
        "\n"
      ]
    },
    {
      "cell_type": "markdown",
      "metadata": {
        "id": "lDn5rpMcXpyN",
        "colab_type": "text"
      },
      "source": [
        "Refacturing data "
      ]
    },
    {
      "cell_type": "code",
      "metadata": {
        "id": "3126ZJuTXfe4",
        "colab_type": "code",
        "colab": {}
      },
      "source": [
        "from sklearn.preprocessing import LabelEncoder\n",
        "encoder =  LabelEncoder()\n",
        "y1 = encoder.fit_transform(y)\n",
        "Y = pd.get_dummies(y1).values\n"
      ],
      "execution_count": 0,
      "outputs": []
    },
    {
      "cell_type": "code",
      "metadata": {
        "id": "cmgiPV8FX0Wx",
        "colab_type": "code",
        "colab": {}
      },
      "source": [
        "from sklearn.model_selection import train_test_split\n",
        "Xtrain,Xtest, ytrain,ytest = train_test_split(features,Y,test_size=0.2,random_state=0) "
      ],
      "execution_count": 0,
      "outputs": []
    },
    {
      "cell_type": "code",
      "metadata": {
        "id": "lrdAjwdsYqs6",
        "colab_type": "code",
        "colab": {
          "base_uri": "https://localhost:8080/",
          "height": 286
        },
        "outputId": "7034a102-a6f8-4227-e2a6-f1d554a755ba"
      },
      "source": [
        "from keras.models import Sequential\n",
        "from keras.layers import Dense\n",
        "from keras.optimizers import SGD,Adam\n",
        "model = Sequential()\n",
        "\n",
        "model.add(Dense(10,input_shape=(756,),activation='tanh')) #number of the parameters from X\n",
        "model.add(Dense(8,activation='tanh'))\n",
        "model.add(Dense(6,activation='tanh'))\n",
        "model.add(Dense(3,activation='softmax'))\n",
        "\n",
        "model.compile(Adam(lr=0.04),'categorical_crossentropy',metrics=['accuracy'])\n",
        "\n",
        "model.summary()"
      ],
      "execution_count": 121,
      "outputs": [
        {
          "output_type": "stream",
          "text": [
            "Model: \"sequential_2\"\n",
            "_________________________________________________________________\n",
            "Layer (type)                 Output Shape              Param #   \n",
            "=================================================================\n",
            "dense_5 (Dense)              (None, 10)                7570      \n",
            "_________________________________________________________________\n",
            "dense_6 (Dense)              (None, 8)                 88        \n",
            "_________________________________________________________________\n",
            "dense_7 (Dense)              (None, 6)                 54        \n",
            "_________________________________________________________________\n",
            "dense_8 (Dense)              (None, 3)                 21        \n",
            "=================================================================\n",
            "Total params: 7,733\n",
            "Trainable params: 7,733\n",
            "Non-trainable params: 0\n",
            "_________________________________________________________________\n"
          ],
          "name": "stdout"
        }
      ]
    },
    {
      "cell_type": "markdown",
      "metadata": {
        "id": "lOLbCN4FXKJW",
        "colab_type": "text"
      },
      "source": [
        "fitting the model and predicting  "
      ]
    },
    {
      "cell_type": "code",
      "metadata": {
        "id": "92ZtD-n_XGfb",
        "colab_type": "code",
        "colab": {
          "base_uri": "https://localhost:8080/",
          "height": 1000
        },
        "outputId": "b2bcef00-fa4a-4d1d-f7ae-cd062a2a698a"
      },
      "source": [
        "model.fit(Xtrain,ytrain,epochs=100)"
      ],
      "execution_count": 122,
      "outputs": [
        {
          "output_type": "stream",
          "text": [
            "Epoch 1/100\n",
            "39550/39550 [==============================] - 3s 66us/step - loss: 0.4923 - accuracy: 0.8662\n",
            "Epoch 2/100\n",
            "39550/39550 [==============================] - 3s 63us/step - loss: 0.4890 - accuracy: 0.8676\n",
            "Epoch 3/100\n",
            "39550/39550 [==============================] - 2s 63us/step - loss: 0.4891 - accuracy: 0.8676\n",
            "Epoch 4/100\n",
            "39550/39550 [==============================] - 3s 63us/step - loss: 0.4892 - accuracy: 0.8676\n",
            "Epoch 5/100\n",
            "39550/39550 [==============================] - 2s 62us/step - loss: 0.4898 - accuracy: 0.8676\n",
            "Epoch 6/100\n",
            "39550/39550 [==============================] - 2s 61us/step - loss: 0.4894 - accuracy: 0.8676\n",
            "Epoch 7/100\n",
            "39550/39550 [==============================] - 2s 62us/step - loss: 0.4896 - accuracy: 0.8676\n",
            "Epoch 8/100\n",
            "39550/39550 [==============================] - 2s 61us/step - loss: 0.4880 - accuracy: 0.8676\n",
            "Epoch 9/100\n",
            "39550/39550 [==============================] - 2s 62us/step - loss: 0.4912 - accuracy: 0.8676\n",
            "Epoch 10/100\n",
            "39550/39550 [==============================] - 2s 61us/step - loss: 0.4915 - accuracy: 0.8676\n",
            "Epoch 11/100\n",
            "39550/39550 [==============================] - 2s 62us/step - loss: 0.4903 - accuracy: 0.8676\n",
            "Epoch 12/100\n",
            "39550/39550 [==============================] - 2s 61us/step - loss: 0.4894 - accuracy: 0.8676\n",
            "Epoch 13/100\n",
            "39550/39550 [==============================] - 2s 61us/step - loss: 0.4906 - accuracy: 0.8676\n",
            "Epoch 14/100\n",
            "39550/39550 [==============================] - 2s 61us/step - loss: 0.4895 - accuracy: 0.8676\n",
            "Epoch 15/100\n",
            "39550/39550 [==============================] - 2s 62us/step - loss: 0.4893 - accuracy: 0.8676\n",
            "Epoch 16/100\n",
            "39550/39550 [==============================] - 2s 61us/step - loss: 0.4923 - accuracy: 0.8676\n",
            "Epoch 17/100\n",
            "39550/39550 [==============================] - 2s 62us/step - loss: 0.4911 - accuracy: 0.8676\n",
            "Epoch 18/100\n",
            "39550/39550 [==============================] - 2s 61us/step - loss: 0.4918 - accuracy: 0.8676\n",
            "Epoch 19/100\n",
            "39550/39550 [==============================] - 2s 61us/step - loss: 0.4903 - accuracy: 0.8676\n",
            "Epoch 20/100\n",
            "39550/39550 [==============================] - 2s 62us/step - loss: 0.4919 - accuracy: 0.8676\n",
            "Epoch 21/100\n",
            "39550/39550 [==============================] - 2s 62us/step - loss: 0.4894 - accuracy: 0.8676\n",
            "Epoch 22/100\n",
            "39550/39550 [==============================] - 2s 62us/step - loss: 0.4906 - accuracy: 0.8676\n",
            "Epoch 23/100\n",
            "39550/39550 [==============================] - 2s 62us/step - loss: 0.4912 - accuracy: 0.8676\n",
            "Epoch 24/100\n",
            "39550/39550 [==============================] - 2s 62us/step - loss: 0.4916 - accuracy: 0.8676\n",
            "Epoch 25/100\n",
            "39550/39550 [==============================] - 2s 62us/step - loss: 0.4902 - accuracy: 0.8676\n",
            "Epoch 26/100\n",
            "39550/39550 [==============================] - 2s 62us/step - loss: 0.4911 - accuracy: 0.8676\n",
            "Epoch 27/100\n",
            "39550/39550 [==============================] - 2s 62us/step - loss: 0.4895 - accuracy: 0.8676\n",
            "Epoch 28/100\n",
            "39550/39550 [==============================] - 2s 62us/step - loss: 0.4906 - accuracy: 0.8676\n",
            "Epoch 29/100\n",
            "39550/39550 [==============================] - 2s 62us/step - loss: 0.4916 - accuracy: 0.8676\n",
            "Epoch 30/100\n",
            "39550/39550 [==============================] - 2s 62us/step - loss: 0.4911 - accuracy: 0.8676\n",
            "Epoch 31/100\n",
            "39550/39550 [==============================] - 3s 70us/step - loss: 0.4894 - accuracy: 0.8676\n",
            "Epoch 32/100\n",
            "39550/39550 [==============================] - 2s 63us/step - loss: 0.4898 - accuracy: 0.8676\n",
            "Epoch 33/100\n",
            "39550/39550 [==============================] - 2s 62us/step - loss: 0.4898 - accuracy: 0.8676\n",
            "Epoch 34/100\n",
            "39550/39550 [==============================] - 2s 62us/step - loss: 0.4909 - accuracy: 0.8676\n",
            "Epoch 35/100\n",
            "39550/39550 [==============================] - 2s 62us/step - loss: 0.4896 - accuracy: 0.8676\n",
            "Epoch 36/100\n",
            "39550/39550 [==============================] - 3s 64us/step - loss: 0.4916 - accuracy: 0.8676\n",
            "Epoch 37/100\n",
            "39550/39550 [==============================] - 3s 66us/step - loss: 0.4917 - accuracy: 0.8676\n",
            "Epoch 38/100\n",
            "39550/39550 [==============================] - 3s 66us/step - loss: 0.4914 - accuracy: 0.8676\n",
            "Epoch 39/100\n",
            "39550/39550 [==============================] - 3s 66us/step - loss: 0.4915 - accuracy: 0.8676\n",
            "Epoch 40/100\n",
            "39550/39550 [==============================] - 3s 65us/step - loss: 0.4906 - accuracy: 0.8676\n",
            "Epoch 41/100\n",
            "39550/39550 [==============================] - 2s 62us/step - loss: 0.4904 - accuracy: 0.8676\n",
            "Epoch 42/100\n",
            "39550/39550 [==============================] - 2s 62us/step - loss: 0.4902 - accuracy: 0.8676\n",
            "Epoch 43/100\n",
            "39550/39550 [==============================] - 2s 62us/step - loss: 0.4923 - accuracy: 0.8676\n",
            "Epoch 44/100\n",
            "39550/39550 [==============================] - 2s 63us/step - loss: 0.4917 - accuracy: 0.8676\n",
            "Epoch 45/100\n",
            "39550/39550 [==============================] - 2s 62us/step - loss: 0.4903 - accuracy: 0.8676\n",
            "Epoch 46/100\n",
            "39550/39550 [==============================] - 3s 64us/step - loss: 0.4907 - accuracy: 0.8676\n",
            "Epoch 47/100\n",
            "39550/39550 [==============================] - 3s 65us/step - loss: 0.4911 - accuracy: 0.8676\n",
            "Epoch 48/100\n",
            "39550/39550 [==============================] - 2s 62us/step - loss: 0.4913 - accuracy: 0.8676\n",
            "Epoch 49/100\n",
            "39550/39550 [==============================] - 2s 61us/step - loss: 0.4902 - accuracy: 0.8676\n",
            "Epoch 50/100\n",
            "39550/39550 [==============================] - 2s 60us/step - loss: 0.4924 - accuracy: 0.8676\n",
            "Epoch 51/100\n",
            "39550/39550 [==============================] - 2s 61us/step - loss: 0.4910 - accuracy: 0.8676\n",
            "Epoch 52/100\n",
            "39550/39550 [==============================] - 2s 61us/step - loss: 0.4913 - accuracy: 0.8676\n",
            "Epoch 53/100\n",
            "39550/39550 [==============================] - 2s 61us/step - loss: 0.4900 - accuracy: 0.8676\n",
            "Epoch 54/100\n",
            "39550/39550 [==============================] - 2s 61us/step - loss: 0.4904 - accuracy: 0.8676\n",
            "Epoch 55/100\n",
            "39550/39550 [==============================] - 2s 61us/step - loss: 0.4916 - accuracy: 0.8676\n",
            "Epoch 56/100\n",
            "39550/39550 [==============================] - 2s 61us/step - loss: 0.4893 - accuracy: 0.8676\n",
            "Epoch 57/100\n",
            "39550/39550 [==============================] - 2s 61us/step - loss: 0.4904 - accuracy: 0.8676\n",
            "Epoch 58/100\n",
            "39550/39550 [==============================] - 2s 61us/step - loss: 0.4919 - accuracy: 0.8676\n",
            "Epoch 59/100\n",
            "39550/39550 [==============================] - 2s 61us/step - loss: 0.4904 - accuracy: 0.8676\n",
            "Epoch 60/100\n",
            "39550/39550 [==============================] - 2s 61us/step - loss: 0.4904 - accuracy: 0.8676\n",
            "Epoch 61/100\n",
            "39550/39550 [==============================] - 2s 61us/step - loss: 0.4906 - accuracy: 0.8676\n",
            "Epoch 62/100\n",
            "39550/39550 [==============================] - 2s 61us/step - loss: 0.4905 - accuracy: 0.8676\n",
            "Epoch 63/100\n",
            "39550/39550 [==============================] - 2s 61us/step - loss: 0.4910 - accuracy: 0.8676\n",
            "Epoch 64/100\n",
            "39550/39550 [==============================] - 2s 62us/step - loss: 0.4907 - accuracy: 0.8676\n",
            "Epoch 65/100\n",
            "39550/39550 [==============================] - 2s 62us/step - loss: 0.4899 - accuracy: 0.8676\n",
            "Epoch 66/100\n",
            "39550/39550 [==============================] - 2s 62us/step - loss: 0.4920 - accuracy: 0.8676\n",
            "Epoch 67/100\n",
            "39550/39550 [==============================] - 2s 62us/step - loss: 0.4904 - accuracy: 0.8676\n",
            "Epoch 68/100\n",
            "39550/39550 [==============================] - 2s 62us/step - loss: 0.4899 - accuracy: 0.8676\n",
            "Epoch 69/100\n",
            "39550/39550 [==============================] - 2s 62us/step - loss: 0.4896 - accuracy: 0.8676\n",
            "Epoch 70/100\n",
            "39550/39550 [==============================] - 2s 62us/step - loss: 0.4911 - accuracy: 0.8676\n",
            "Epoch 71/100\n",
            "39550/39550 [==============================] - 2s 62us/step - loss: 0.4896 - accuracy: 0.8676\n",
            "Epoch 72/100\n",
            "39550/39550 [==============================] - 2s 62us/step - loss: 0.4905 - accuracy: 0.8676\n",
            "Epoch 73/100\n",
            "39550/39550 [==============================] - 2s 62us/step - loss: 0.4922 - accuracy: 0.8676\n",
            "Epoch 74/100\n",
            "39550/39550 [==============================] - 2s 62us/step - loss: 0.4902 - accuracy: 0.8676\n",
            "Epoch 75/100\n",
            "39550/39550 [==============================] - 2s 62us/step - loss: 0.4905 - accuracy: 0.8676\n",
            "Epoch 76/100\n",
            "39550/39550 [==============================] - 2s 62us/step - loss: 0.4905 - accuracy: 0.8676\n",
            "Epoch 77/100\n",
            "39550/39550 [==============================] - 2s 62us/step - loss: 0.4901 - accuracy: 0.8676\n",
            "Epoch 78/100\n",
            "39550/39550 [==============================] - 2s 61us/step - loss: 0.4905 - accuracy: 0.8676\n",
            "Epoch 79/100\n",
            "39550/39550 [==============================] - 2s 61us/step - loss: 0.4909 - accuracy: 0.8676\n",
            "Epoch 80/100\n",
            "39550/39550 [==============================] - 2s 62us/step - loss: 0.4902 - accuracy: 0.8676\n",
            "Epoch 81/100\n",
            "39550/39550 [==============================] - 2s 63us/step - loss: 0.4911 - accuracy: 0.8676\n",
            "Epoch 82/100\n",
            "39550/39550 [==============================] - 2s 62us/step - loss: 0.4911 - accuracy: 0.8676\n",
            "Epoch 83/100\n",
            "39550/39550 [==============================] - 2s 63us/step - loss: 0.4910 - accuracy: 0.8676\n",
            "Epoch 84/100\n",
            "39550/39550 [==============================] - 3s 65us/step - loss: 0.4908 - accuracy: 0.8676\n",
            "Epoch 85/100\n",
            "39550/39550 [==============================] - 2s 62us/step - loss: 0.4907 - accuracy: 0.8676\n",
            "Epoch 86/100\n",
            "39550/39550 [==============================] - 2s 62us/step - loss: 0.4896 - accuracy: 0.8676\n",
            "Epoch 87/100\n",
            "39550/39550 [==============================] - 2s 62us/step - loss: 0.4904 - accuracy: 0.8676\n",
            "Epoch 88/100\n",
            "39550/39550 [==============================] - 2s 62us/step - loss: 0.4903 - accuracy: 0.8676\n",
            "Epoch 89/100\n",
            "39550/39550 [==============================] - 2s 62us/step - loss: 0.4894 - accuracy: 0.8676\n",
            "Epoch 90/100\n",
            "39550/39550 [==============================] - 2s 62us/step - loss: 0.4904 - accuracy: 0.8676\n",
            "Epoch 91/100\n",
            "39550/39550 [==============================] - 2s 62us/step - loss: 0.4906 - accuracy: 0.8676\n",
            "Epoch 92/100\n",
            "39550/39550 [==============================] - 2s 62us/step - loss: 0.4907 - accuracy: 0.8676\n",
            "Epoch 93/100\n",
            "39550/39550 [==============================] - 2s 62us/step - loss: 0.4918 - accuracy: 0.8676\n",
            "Epoch 94/100\n",
            "39550/39550 [==============================] - 2s 60us/step - loss: 0.4899 - accuracy: 0.8676\n",
            "Epoch 95/100\n",
            "39550/39550 [==============================] - 2s 60us/step - loss: 0.4902 - accuracy: 0.8676\n",
            "Epoch 96/100\n",
            "39550/39550 [==============================] - 2s 60us/step - loss: 0.4902 - accuracy: 0.8676\n",
            "Epoch 97/100\n",
            "39550/39550 [==============================] - 2s 60us/step - loss: 0.4905 - accuracy: 0.8676\n",
            "Epoch 98/100\n",
            "39550/39550 [==============================] - 2s 60us/step - loss: 0.4897 - accuracy: 0.8676\n",
            "Epoch 99/100\n",
            "39550/39550 [==============================] - 2s 60us/step - loss: 0.4905 - accuracy: 0.8676\n",
            "Epoch 100/100\n",
            "39550/39550 [==============================] - 2s 60us/step - loss: 0.4914 - accuracy: 0.8676\n"
          ],
          "name": "stdout"
        },
        {
          "output_type": "execute_result",
          "data": {
            "text/plain": [
              "<keras.callbacks.callbacks.History at 0x7fa48c8099b0>"
            ]
          },
          "metadata": {
            "tags": []
          },
          "execution_count": 122
        }
      ]
    },
    {
      "cell_type": "code",
      "metadata": {
        "id": "sjSlZbmzgycP",
        "colab_type": "code",
        "colab": {}
      },
      "source": [
        "y_pred = model.predict(Xtest)\n",
        "y_test_class = np.argmax(ytest,axis=1)\n",
        "y_pred_class = np.argmax(y_pred,axis=1)"
      ],
      "execution_count": 0,
      "outputs": []
    },
    {
      "cell_type": "code",
      "metadata": {
        "id": "EJvdfp-47fGm",
        "colab_type": "code",
        "colab": {
          "base_uri": "https://localhost:8080/",
          "height": 67
        },
        "outputId": "adf89158-8e19-4c65-bcea-920f6a2a154f"
      },
      "source": [
        "print('Mean Absolute Error:', metrics.mean_absolute_error(ytest, y_pred))\n",
        "print('Mean Squared Error:', metrics.mean_squared_error(ytest, y_pred))\n",
        "print('Root Mean Squared Error:', np.sqrt(metrics.mean_squared_error(ytest, y_pred)))\n"
      ],
      "execution_count": 124,
      "outputs": [
        {
          "output_type": "stream",
          "text": [
            "Mean Absolute Error: 0.17555654\n",
            "Mean Squared Error: 0.08329176\n",
            "Root Mean Squared Error: 0.28860313\n"
          ],
          "name": "stdout"
        }
      ]
    },
    {
      "cell_type": "markdown",
      "metadata": {
        "id": "vjsuG5E4gl47",
        "colab_type": "text"
      },
      "source": [
        "Accuracy of the predicted values"
      ]
    },
    {
      "cell_type": "code",
      "metadata": {
        "id": "D7epnCaTYOzD",
        "colab_type": "code",
        "colab": {
          "base_uri": "https://localhost:8080/",
          "height": 289
        },
        "outputId": "adb48d8e-f8b3-4d2c-a94c-d65c8d04bd71"
      },
      "source": [
        "\n",
        "from sklearn.metrics import classification_report,confusion_matrix\n",
        "print(classification_report(y_test_class,y_pred_class))\n",
        "print(confusion_matrix(y_test_class,y_pred_class))"
      ],
      "execution_count": 78,
      "outputs": [
        {
          "output_type": "stream",
          "text": [
            "              precision    recall  f1-score   support\n",
            "\n",
            "           0       0.17      0.00      0.00       802\n",
            "           1       0.86      1.00      0.93      8511\n",
            "           2       0.00      0.00      0.00       575\n",
            "\n",
            "    accuracy                           0.86      9888\n",
            "   macro avg       0.34      0.33      0.31      9888\n",
            "weighted avg       0.75      0.86      0.80      9888\n",
            "\n",
            "[[   1  801    0]\n",
            " [   3 8508    0]\n",
            " [   2  573    0]]\n"
          ],
          "name": "stdout"
        },
        {
          "output_type": "stream",
          "text": [
            "/usr/local/lib/python3.6/dist-packages/sklearn/metrics/_classification.py:1272: UndefinedMetricWarning: Precision and F-score are ill-defined and being set to 0.0 in labels with no predicted samples. Use `zero_division` parameter to control this behavior.\n",
            "  _warn_prf(average, modifier, msg_start, len(result))\n"
          ],
          "name": "stderr"
        }
      ]
    },
    {
      "cell_type": "markdown",
      "metadata": {
        "id": "s7pZBtEhlhi8",
        "colab_type": "text"
      },
      "source": [
        "# (3) Model comparison 🏆"
      ]
    },
    {
      "cell_type": "markdown",
      "metadata": {
        "id": "ifd32ZsQv5tM",
        "colab_type": "text"
      },
      "source": [
        "We try to run 10 fold cross-validation to validate our model. This step is usually skipped in CNN's because of the computational overhead"
      ]
    },
    {
      "cell_type": "markdown",
      "metadata": {
        "id": "upqJqKGjz6P0",
        "colab_type": "text"
      },
      "source": [
        "Model 1 :Random Forest Algorithm "
      ]
    },
    {
      "cell_type": "code",
      "metadata": {
        "id": "3Jjc2Qdxzlll",
        "colab_type": "code",
        "colab": {
          "base_uri": "https://localhost:8080/",
          "height": 67
        },
        "outputId": "87cdab13-92bb-40ee-afa2-f756bc7ac921"
      },
      "source": [
        "print(\"Scores:\", scores1)\n",
        "print(\"Mean:\", scores1.mean())\n",
        "print(\"Standard Deviation:\", scores1 .std())"
      ],
      "execution_count": 93,
      "outputs": [
        {
          "output_type": "stream",
          "text": [
            "Scores: [0.84277048 0.84529828 0.84876075 0.8442084  0.85128983]\n",
            "Mean: 0.8464655469138777\n",
            "Standard Deviation: 0.0031193742905395554\n"
          ],
          "name": "stdout"
        }
      ]
    },
    {
      "cell_type": "markdown",
      "metadata": {
        "id": "ucEchv4G0mO4",
        "colab_type": "text"
      },
      "source": [
        "This implementation gives a mean accuracy of 84.6% with a standard deviation of 0.03%"
      ]
    },
    {
      "cell_type": "markdown",
      "metadata": {
        "id": "LdnKkwR65Um8",
        "colab_type": "text"
      },
      "source": [
        "Mean Absolute Error: 0.1448509519354757\n",
        "Mean Squared Error: 0.1475816034992794\n",
        "Root Mean Squared Error: 0.3841635114105443"
      ]
    },
    {
      "cell_type": "markdown",
      "metadata": {
        "id": "TwcG8sYy0BQC",
        "colab_type": "text"
      },
      "source": [
        "Model 2 : XGBoost\n"
      ]
    },
    {
      "cell_type": "code",
      "metadata": {
        "id": "vZdBH98j0QKE",
        "colab_type": "code",
        "colab": {
          "base_uri": "https://localhost:8080/",
          "height": 67
        },
        "outputId": "4828c8e7-4a81-41df-fe38-b6b23830a876"
      },
      "source": [
        "print(\"Scores:\", scores2)\n",
        "print(\"Mean:\", scores2.mean())\n",
        "print(\"Standard Deviation:\", scores2 .std())"
      ],
      "execution_count": 94,
      "outputs": [
        {
          "output_type": "stream",
          "text": [
            "Scores: [0.85844287 0.85743175 0.85887709 0.85887709 0.85887709]\n",
            "Mean: 0.8585011760626374\n",
            "Standard Deviation: 0.0005605352970207498\n"
          ],
          "name": "stdout"
        }
      ]
    },
    {
      "cell_type": "markdown",
      "metadata": {
        "id": "wPe1s2PW0vpL",
        "colab_type": "text"
      },
      "source": [
        "This implementation gives a mean accuracy of 85.8% with a standard deviation of 0.005%"
      ]
    },
    {
      "cell_type": "markdown",
      "metadata": {
        "id": "FHfOkpm_66ja",
        "colab_type": "text"
      },
      "source": [
        "Mean Absolute Error: 0.1322343303582716\n",
        "Mean Squared Error: 0.13233546560137543\n",
        "Root Mean Squared Error: 0.36377941888096893"
      ]
    },
    {
      "cell_type": "markdown",
      "metadata": {
        "id": "i_EFbn9F0Ws0",
        "colab_type": "text"
      },
      "source": [
        "Model 3: Decision Tree"
      ]
    },
    {
      "cell_type": "code",
      "metadata": {
        "id": "dfIlzqlB0cG0",
        "colab_type": "code",
        "colab": {
          "base_uri": "https://localhost:8080/",
          "height": 67
        },
        "outputId": "1e30e150-3df8-4913-972b-0dd2aebfde22"
      },
      "source": [
        "print(\"Scores:\", scores3)\n",
        "print(\"Mean:\", scores3.mean())\n",
        "print(\"Standard Deviation:\", scores3 .std())"
      ],
      "execution_count": 95,
      "outputs": [
        {
          "output_type": "stream",
          "text": [
            "Scores: [0.85844287 0.85844287 0.85887709 0.85887709 0.85887709]\n",
            "Mean: 0.8587034005317982\n",
            "Standard Deviation: 0.00021272099228313756\n"
          ],
          "name": "stdout"
        }
      ]
    },
    {
      "cell_type": "markdown",
      "metadata": {
        "id": "A5JJZTVV0i-2",
        "colab_type": "text"
      },
      "source": [
        "This implementation gives a mean accuracy of 85.8% with a standard deviation of 0.002%"
      ]
    },
    {
      "cell_type": "markdown",
      "metadata": {
        "id": "NtOCUhOE7Srt",
        "colab_type": "text"
      },
      "source": [
        "Mean Absolute Error: 0.13284114181689463\n",
        "Mean Squared Error: 0.13359965614017344\n",
        "Root Mean Squared Error: 0.36551286727032395"
      ]
    },
    {
      "cell_type": "markdown",
      "metadata": {
        "id": "Hn_2Bqi01AuU",
        "colab_type": "text"
      },
      "source": [
        "Model 4: Keras.Sequential"
      ]
    },
    {
      "cell_type": "code",
      "metadata": {
        "id": "NehRr71R1edx",
        "colab_type": "code",
        "colab": {
          "base_uri": "https://localhost:8080/",
          "height": 289
        },
        "outputId": "3adc003d-3b4a-4e7b-e0ff-15ca2c14ec4a"
      },
      "source": [
        "print(classification_report(y_test_class,y_pred_class))\n",
        "print(confusion_matrix(y_test_class,y_pred_class))"
      ],
      "execution_count": 96,
      "outputs": [
        {
          "output_type": "stream",
          "text": [
            "              precision    recall  f1-score   support\n",
            "\n",
            "           0       0.17      0.00      0.00       802\n",
            "           1       0.86      1.00      0.93      8511\n",
            "           2       0.00      0.00      0.00       575\n",
            "\n",
            "    accuracy                           0.86      9888\n",
            "   macro avg       0.34      0.33      0.31      9888\n",
            "weighted avg       0.75      0.86      0.80      9888\n",
            "\n",
            "[[   1  801    0]\n",
            " [   3 8508    0]\n",
            " [   2  573    0]]\n"
          ],
          "name": "stdout"
        },
        {
          "output_type": "stream",
          "text": [
            "/usr/local/lib/python3.6/dist-packages/sklearn/metrics/_classification.py:1272: UndefinedMetricWarning: Precision and F-score are ill-defined and being set to 0.0 in labels with no predicted samples. Use `zero_division` parameter to control this behavior.\n",
            "  _warn_prf(average, modifier, msg_start, len(result))\n"
          ],
          "name": "stderr"
        }
      ]
    },
    {
      "cell_type": "markdown",
      "metadata": {
        "id": "S5u6G4y31p3M",
        "colab_type": "text"
      },
      "source": [
        "This implementation gives a mean accuracy of 86%"
      ]
    },
    {
      "cell_type": "markdown",
      "metadata": {
        "id": "uEajZD1q1yoV",
        "colab_type": "text"
      },
      "source": [
        "Mean Absolute Error: 0.17555654\n",
        "Mean Squared Error: 0.08329176\n",
        "Root Mean Squared Error: 0.28860313"
      ]
    }
  ]
}